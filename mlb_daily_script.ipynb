{
 "cells": [
  {
   "cell_type": "code",
   "execution_count": 232,
   "metadata": {
    "collapsed": true
   },
   "outputs": [],
   "source": [
    "from bs4 import BeautifulSoup\n",
    "import requests\n",
    "import pandas as pd"
   ]
  },
  {
   "cell_type": "code",
   "execution_count": 233,
   "metadata": {
    "collapsed": false
   },
   "outputs": [],
   "source": [
    "Hdc_urls = {'angels': 'http://www.fangraphs.com/projections.aspx?pos=all&stats=bat&type=fangraphsdc&team=1&lg=all&players=',\n",
    "        'astros': 'http://www.fangraphs.com/projections.aspx?pos=all&stats=bat&type=fangraphsdc&team=21&lg=all&players=',\n",
    "        'athletics': 'http://www.fangraphs.com/projections.aspx?pos=all&stats=bat&type=fangraphsdc&team=10&lg=all&players=',\n",
    "        'blue jays': 'http://www.fangraphs.com/projections.aspx?pos=all&stats=bat&type=fangraphsdc&team=14&lg=all&players=',\n",
    "        'braves': 'http://www.fangraphs.com/projections.aspx?pos=all&stats=bat&type=fangraphsdc&team=16&lg=all&players=',\n",
    "        'brewers': 'http://www.fangraphs.com/projections.aspx?pos=all&stats=bat&type=fangraphsdc&team=23&lg=all&players=',\n",
    "        'cardinals': 'http://www.fangraphs.com/projections.aspx?pos=all&stats=bat&type=fangraphsdc&team=28&lg=all&players=',\n",
    "        'cubs': 'http://www.fangraphs.com/projections.aspx?pos=all&stats=bat&type=fangraphsdc&team=17&lg=all&players=',\n",
    "        'diamondbacks': 'http://www.fangraphs.com/projections.aspx?pos=all&stats=bat&type=fangraphsdc&team=15&lg=all&players=',\n",
    "        'dodgers': 'http://www.fangraphs.com/projections.aspx?pos=all&stats=bat&type=fangraphsdc&team=22&lg=all&players=',\n",
    "        'giants': 'http://www.fangraphs.com/projections.aspx?pos=all&stats=bat&type=fangraphsdc&team=30&lg=all&players=',\n",
    "        'indians': 'http://www.fangraphs.com/projections.aspx?pos=all&stats=bat&type=fangraphsdc&team=5&lg=all&players=',\n",
    "        'mariners': 'http://www.fangraphs.com/projections.aspx?pos=all&stats=bat&type=fangraphsdc&team=11&lg=all&players=',\n",
    "        'marlins': 'http://www.fangraphs.com/projections.aspx?pos=all&stats=bat&type=fangraphsdc&team=20&lg=all&players=',\n",
    "        'mets': 'http://www.fangraphs.com/projections.aspx?pos=all&stats=bat&type=fangraphsdc&team=25&lg=all&players=',\n",
    "        'nationals': 'http://www.fangraphs.com/projections.aspx?pos=all&stats=bat&type=fangraphsdc&team=24&lg=all&players=',\n",
    "        'orioles': 'http://www.fangraphs.com/projections.aspx?pos=all&stats=bat&type=fangraphsdc&team=2&lg=all&players=',\n",
    "        'padres': 'http://www.fangraphs.com/projections.aspx?pos=all&stats=bat&type=fangraphsdc&team=29&lg=all&players=',\n",
    "        'phillies': 'http://www.fangraphs.com/projections.aspx?pos=all&stats=bat&type=fangraphsdc&team=26&lg=all&players=',\n",
    "        'pirates': 'http://www.fangraphs.com/projections.aspx?pos=all&stats=bat&type=fangraphsdc&team=27&lg=all&players=',\n",
    "        'rangers': 'http://www.fangraphs.com/projections.aspx?pos=all&stats=bat&type=fangraphsdc&team=13&lg=all&players=',\n",
    "        'rays': 'http://www.fangraphs.com/projections.aspx?pos=all&stats=bat&type=fangraphsdc&team=12&lg=all&players=',\n",
    "        'red sox': 'http://www.fangraphs.com/projections.aspx?pos=all&stats=bat&type=fangraphsdc&team=3&lg=all&players=', \n",
    "        'reds': 'http://www.fangraphs.com/projections.aspx?pos=all&stats=bat&type=fangraphsdc&team=18&lg=all&players=',\n",
    "        'rockies': 'http://www.fangraphs.com/projections.aspx?pos=all&stats=bat&type=fangraphsdc&team=19&lg=all&players=',\n",
    "        'royals': 'http://www.fangraphs.com/projections.aspx?pos=all&stats=bat&type=fangraphsdc&team=7&lg=all&players=',\n",
    "        'tigers': 'http://www.fangraphs.com/projections.aspx?pos=all&stats=bat&type=fangraphsdc&team=6&lg=all&players=',\n",
    "        'twins': 'http://www.fangraphs.com/projections.aspx?pos=all&stats=bat&type=fangraphsdc&team=8&lg=all&players=',\n",
    "        'white sox': 'http://www.fangraphs.com/projections.aspx?pos=all&stats=bat&type=fangraphsdc&team=4&lg=all&players=0',\n",
    "        'yankees': 'http://www.fangraphs.com/projections.aspx?pos=all&stats=bat&type=fangraphsdc&team=9&lg=all&players='\n",
    "       }"
   ]
  },
  {
   "cell_type": "code",
   "execution_count": 234,
   "metadata": {
    "collapsed": true
   },
   "outputs": [],
   "source": [
    "H2016_urls = {'angels': 'http://www.fangraphs.com/leaders.aspx?pos=all&stats=bat&lg=all&qual=0&type=8&season=2016&month=0&season1=2016&ind=0&team=1&rost=0&age=0&filter=&players=0',\n",
    "        'astros': 'http://www.fangraphs.com/leaders.aspx?pos=all&stats=bat&lg=all&qual=0&type=8&season=2016&month=0&season1=2016&ind=0&team=21&rost=0&age=0&filter=&players=0',\n",
    "        'athletics': 'http://www.fangraphs.com/leaders.aspx?pos=all&stats=bat&lg=all&qual=0&type=8&season=2016&month=0&season1=2016&ind=0&team=10&rost=0&age=0&filter=&players=0',\n",
    "        'blue jays': 'http://www.fangraphs.com/leaders.aspx?pos=all&stats=bat&lg=all&qual=0&type=8&season=2016&month=0&season1=2016&ind=0&team=14&rost=0&age=0&filter=&players=0',\n",
    "        'braves': 'http://www.fangraphs.com/leaders.aspx?pos=all&stats=bat&lg=all&qual=0&type=8&season=2016&month=0&season1=2016&ind=0&team=16&rost=0&age=0&filter=&players=0',\n",
    "        'brewers': 'http://www.fangraphs.com/leaders.aspx?pos=all&stats=bat&lg=all&qual=0&type=8&season=2016&month=0&season1=2016&ind=0&team=23&rost=0&age=0&filter=&players=0',\n",
    "        'cardinals': 'http://www.fangraphs.com/leaders.aspx?pos=all&stats=bat&lg=all&qual=0&type=8&season=2016&month=0&season1=2016&ind=0&team=28&rost=0&age=0&filter=&players=0',\n",
    "        'cubs': 'http://www.fangraphs.com/leaders.aspx?pos=all&stats=bat&lg=all&qual=0&type=8&season=2016&month=0&season1=2016&ind=0&team=17&rost=0&age=0&filter=&players=0',\n",
    "        'diamondbacks': 'http://www.fangraphs.com/leaders.aspx?pos=all&stats=bat&lg=all&qual=0&type=8&season=2016&month=0&season1=2016&ind=0&team=15&rost=0&age=0&filter=&players=0',\n",
    "        'dodgers': 'http://www.fangraphs.com/leaders.aspx?pos=all&stats=bat&lg=all&qual=0&type=8&season=2016&month=0&season1=2016&ind=0&team=22&rost=0&age=0&filter=&players=0',\n",
    "        'giants': 'http://www.fangraphs.com/leaders.aspx?pos=all&stats=bat&lg=all&qual=0&type=8&season=2016&month=0&season1=2016&ind=0&team=30&rost=0&age=0&filter=&players=0',\n",
    "        'indians': 'http://www.fangraphs.com/leaders.aspx?pos=all&stats=bat&lg=all&qual=0&type=8&season=2016&month=0&season1=2016&ind=0&team=5&rost=0&age=0&filter=&players=0',\n",
    "        'mariners': 'http://www.fangraphs.com/leaders.aspx?pos=all&stats=bat&lg=all&qual=0&type=8&season=2016&month=0&season1=2016&ind=0&team=11&rost=0&age=0&filter=&players=0',\n",
    "        'marlins': 'http://www.fangraphs.com/leaders.aspx?pos=all&stats=bat&lg=all&qual=0&type=8&season=2016&month=0&season1=2016&ind=0&team=20&rost=0&age=0&filter=&players=0',\n",
    "        'mets': 'http://www.fangraphs.com/leaders.aspx?pos=all&stats=bat&lg=all&qual=0&type=8&season=2016&month=0&season1=2016&ind=0&team=25&rost=0&age=0&filter=&players=0',\n",
    "        'nationals': 'http://www.fangraphs.com/leaders.aspx?pos=all&stats=bat&lg=all&qual=0&type=8&season=2016&month=0&season1=2016&ind=0&team=24&rost=0&age=0&filter=&players=0',\n",
    "        'orioles': 'http://www.fangraphs.com/leaders.aspx?pos=all&stats=bat&lg=all&qual=0&type=8&season=2016&month=0&season1=2016&ind=0&team=2&rost=0&age=0&filter=&players=0',\n",
    "        'padres': 'http://www.fangraphs.com/leaders.aspx?pos=all&stats=bat&lg=all&qual=0&type=8&season=2016&month=0&season1=2016&ind=0&team=29&rost=0&age=0&filter=&players=0',\n",
    "        'phillies': 'http://www.fangraphs.com/leaders.aspx?pos=all&stats=bat&lg=all&qual=0&type=8&season=2016&month=0&season1=2016&ind=0&team=26&rost=0&age=0&filter=&players=0',\n",
    "        'pirates': 'http://www.fangraphs.com/leaders.aspx?pos=all&stats=bat&lg=all&qual=0&type=8&season=2016&month=0&season1=2016&ind=0&team=27&rost=0&age=0&filter=&players=0',\n",
    "        'rangers': 'http://www.fangraphs.com/leaders.aspx?pos=all&stats=bat&lg=all&qual=0&type=8&season=2016&month=0&season1=2016&ind=0&team=13&rost=0&age=0&filter=&players=0',\n",
    "        'rays': 'http://www.fangraphs.com/leaders.aspx?pos=all&stats=bat&lg=all&qual=0&type=8&season=2016&month=0&season1=2016&ind=0&team=12&rost=0&age=0&filter=&players=0',\n",
    "        'red sox': 'http://www.fangraphs.com/leaders.aspx?pos=all&stats=bat&lg=all&qual=0&type=8&season=2016&month=0&season1=2016&ind=0&team=3&rost=0&age=0&filter=&players=0', \n",
    "        'reds': 'http://www.fangraphs.com/leaders.aspx?pos=all&stats=bat&lg=all&qual=0&type=8&season=2016&month=0&season1=2016&ind=0&team=18&rost=0&age=0&filter=&players=0',\n",
    "        'rockies': 'http://www.fangraphs.com/leaders.aspx?pos=all&stats=bat&lg=all&qual=0&type=8&season=2016&month=0&season1=2016&ind=0&team=19&rost=0&age=0&filter=&players=0',\n",
    "        'royals': 'http://www.fangraphs.com/leaders.aspx?pos=all&stats=bat&lg=all&qual=0&type=8&season=2016&month=0&season1=2016&ind=0&team=7&rost=0&age=0&filter=&players=0',\n",
    "        'tigers': 'http://www.fangraphs.com/leaders.aspx?pos=all&stats=bat&lg=all&qual=0&type=8&season=2016&month=0&season1=2016&ind=0&team=6&rost=0&age=0&filter=&players=0',\n",
    "        'twins': 'http://www.fangraphs.com/leaders.aspx?pos=all&stats=bat&lg=all&qual=0&type=8&season=2016&month=0&season1=2016&ind=0&team=8&rost=0&age=0&filter=&players=0',\n",
    "        'white sox': 'http://www.fangraphs.com/leaders.aspx?pos=all&stats=bat&lg=all&qual=0&type=8&season=2016&month=0&season1=2016&ind=0&team=4&rost=0&age=0&filter=&players=0',\n",
    "        'yankees': 'http://www.fangraphs.com/leaders.aspx?pos=all&stats=bat&lg=all&qual=0&type=8&season=2016&month=0&season1=2016&ind=0&team=9&rost=0&age=0&filter=&players=0'\n",
    "       }"
   ]
  },
  {
   "cell_type": "code",
   "execution_count": 235,
   "metadata": {
    "collapsed": true
   },
   "outputs": [],
   "source": [
    "P2016_urls = {'angels': 'http://www.fangraphs.com/leaders.aspx?pos=all&stats=pit&lg=all&qual=0&type=8&season=2016&month=0&season1=2016&ind=0&team=1&rost=0&age=0&filter=&players=0',\n",
    "        'astros': 'http://www.fangraphs.com/leaders.aspx?pos=all&stats=pit&lg=all&qual=0&type=8&season=2016&month=0&season1=2016&ind=0&team=21&rost=0&age=0&filter=&players=0',\n",
    "        'athletics': 'http://www.fangraphs.com/leaders.aspx?pos=all&stats=pit&lg=all&qual=0&type=8&season=2016&month=0&season1=2016&ind=0&team=10&rost=0&age=0&filter=&players=0',\n",
    "        'blue jays': 'http://www.fangraphs.com/leaders.aspx?pos=all&stats=pit&lg=all&qual=0&type=8&season=2016&month=0&season1=2016&ind=0&team=14&rost=0&age=0&filter=&players=0',\n",
    "        'braves': 'http://www.fangraphs.com/leaders.aspx?pos=all&stats=pit&lg=all&qual=0&type=8&season=2016&month=0&season1=2016&ind=0&team=16&rost=0&age=0&filter=&players=0',\n",
    "        'brewers': 'http://www.fangraphs.com/leaders.aspx?pos=all&stats=pit&lg=all&qual=0&type=8&season=2016&month=0&season1=2016&ind=0&team=23&rost=0&age=0&filter=&players=0',\n",
    "        'cardinals': 'http://www.fangraphs.com/leaders.aspx?pos=all&stats=pit&lg=all&qual=0&type=8&season=2016&month=0&season1=2016&ind=0&team=28&rost=0&age=0&filter=&players=0',\n",
    "        'cubs': 'http://www.fangraphs.com/leaders.aspx?pos=all&stats=pit&lg=all&qual=0&type=8&season=2016&month=0&season1=2016&ind=0&team=17&rost=0&age=0&filter=&players=0',\n",
    "        'diamondbacks': 'http://www.fangraphs.com/leaders.aspx?pos=all&stats=pit&lg=all&qual=0&type=8&season=2016&month=0&season1=2016&ind=0&team=15&rost=0&age=0&filter=&players=0',\n",
    "        'dodgers': 'http://www.fangraphs.com/leaders.aspx?pos=all&stats=pit&lg=all&qual=0&type=8&season=2016&month=0&season1=2016&ind=0&team=22&rost=0&age=0&filter=&players=0',\n",
    "        'giants': 'http://www.fangraphs.com/leaders.aspx?pos=all&stats=pit&lg=all&qual=0&type=8&season=2016&month=0&season1=2016&ind=0&team=30&rost=0&age=0&filter=&players=0',\n",
    "        'indians': 'http://www.fangraphs.com/leaders.aspx?pos=all&stats=pit&lg=all&qual=0&type=8&season=2016&month=0&season1=2016&ind=0&team=5&rost=0&age=0&filter=&players=0',\n",
    "        'mariners': 'http://www.fangraphs.com/leaders.aspx?pos=all&stats=pit&lg=all&qual=0&type=8&season=2016&month=0&season1=2016&ind=0&team=11&rost=0&age=0&filter=&players=0',\n",
    "        'marlins': 'http://www.fangraphs.com/leaders.aspx?pos=all&stats=pit&lg=all&qual=0&type=8&season=2016&month=0&season1=2016&ind=0&team=20&rost=0&age=0&filter=&players=0',\n",
    "        'mets': 'http://www.fangraphs.com/leaders.aspx?pos=all&stats=pit&lg=all&qual=0&type=8&season=2016&month=0&season1=2016&ind=0&team=25&rost=0&age=0&filter=&players=0',\n",
    "        'nationals': 'http://www.fangraphs.com/leaders.aspx?pos=all&stats=pit&lg=all&qual=0&type=8&season=2016&month=0&season1=2016&ind=0&team=24&rost=0&age=0&filter=&players=0',\n",
    "        'orioles': 'http://www.fangraphs.com/leaders.aspx?pos=all&stats=pit&lg=all&qual=0&type=8&season=2016&month=0&season1=2016&ind=0&team=2&rost=0&age=0&filter=&players=0',\n",
    "        'padres': 'http://www.fangraphs.com/leaders.aspx?pos=all&stats=pit&lg=all&qual=0&type=8&season=2016&month=0&season1=2016&ind=0&team=29&rost=0&age=0&filter=&players=0',\n",
    "        'phillies': 'http://www.fangraphs.com/leaders.aspx?pos=all&stats=pit&lg=all&qual=0&type=8&season=2016&month=0&season1=2016&ind=0&team=26&rost=0&age=0&filter=&players=0',\n",
    "        'pirates': 'http://www.fangraphs.com/leaders.aspx?pos=all&stats=pit&lg=all&qual=0&type=8&season=2016&month=0&season1=2016&ind=0&team=27&rost=0&age=0&filter=&players=0',\n",
    "        'rangers': 'http://www.fangraphs.com/leaders.aspx?pos=all&stats=pit&lg=all&qual=0&type=8&season=2016&month=0&season1=2016&ind=0&team=13&rost=0&age=0&filter=&players=0',\n",
    "        'rays': 'http://www.fangraphs.com/leaders.aspx?pos=all&stats=pit&lg=all&qual=0&type=8&season=2016&month=0&season1=2016&ind=0&team=12&rost=0&age=0&filter=&players=0',\n",
    "        'red sox': 'http://www.fangraphs.com/leaders.aspx?pos=all&stats=pit&lg=all&qual=0&type=8&season=2016&month=0&season1=2016&ind=0&team=3&rost=0&age=0&filter=&players=0', \n",
    "        'reds': 'http://www.fangraphs.com/leaders.aspx?pos=all&stats=pit&lg=all&qual=0&type=8&season=2016&month=0&season1=2016&ind=0&team=18&rost=0&age=0&filter=&players=0',\n",
    "        'rockies': 'http://www.fangraphs.com/leaders.aspx?pos=all&stats=pit&lg=all&qual=0&type=8&season=2016&month=0&season1=2016&ind=0&team=19&rost=0&age=0&filter=&players=0',\n",
    "        'royals': 'http://www.fangraphs.com/leaders.aspx?pos=all&stats=pit&lg=all&qual=0&type=8&season=2016&month=0&season1=2016&ind=0&team=7&rost=0&age=0&filter=&players=0',\n",
    "        'tigers': 'http://www.fangraphs.com/leaders.aspx?pos=all&stats=pit&lg=all&qual=0&type=8&season=2016&month=0&season1=2016&ind=0&team=6&rost=0&age=0&filter=&players=0',\n",
    "        'twins': 'http://www.fangraphs.com/leaders.aspx?pos=all&stats=pit&lg=all&qual=0&type=8&season=2016&month=0&season1=2016&ind=0&team=8&rost=0&age=0&filter=&players=0',\n",
    "        'white sox': 'http://www.fangraphs.com/leaders.aspx?pos=all&stats=pit&lg=all&qual=0&type=8&season=2016&month=0&season1=2016&ind=0&team=4&rost=0&age=0&filter=&players=0',\n",
    "        'yankees': 'http://www.fangraphs.com/leaders.aspx?pos=all&stats=pit&lg=all&qual=0&type=8&season=2016&month=0&season1=2016&ind=0&team=9&rost=0&age=0&filter=&players=0'\n",
    "       }"
   ]
  },
  {
   "cell_type": "code",
   "execution_count": 236,
   "metadata": {
    "collapsed": true
   },
   "outputs": [],
   "source": [
    "Hdc_player_lst = []\n",
    "Hdc_team_lst = []\n",
    "Hdc_g_lst = []\n",
    "Hdc_pa_lst = []\n",
    "Hdc_war_lst = []"
   ]
  },
  {
   "cell_type": "code",
   "execution_count": 237,
   "metadata": {
    "collapsed": false
   },
   "outputs": [],
   "source": [
    "Pdc_player_lst = []\n",
    "Pdc_team_lst = []\n",
    "Pdc_gs_lst = []\n",
    "Pdc_ip_lst = []\n",
    "Pdc_war_lst = []"
   ]
  },
  {
   "cell_type": "code",
   "execution_count": 238,
   "metadata": {
    "collapsed": true
   },
   "outputs": [],
   "source": [
    "H2016_player_lst = []\n",
    "H2016_team_lst = []\n",
    "H2016_pa_lst = []\n",
    "H2016_war_lst = []"
   ]
  },
  {
   "cell_type": "code",
   "execution_count": 239,
   "metadata": {
    "collapsed": true
   },
   "outputs": [],
   "source": [
    "P2016_player_lst = []\n",
    "P2016_team_lst = []\n",
    "P2016_ip_lst = []\n",
    "P2016_war_lst = []"
   ]
  },
  {
   "cell_type": "code",
   "execution_count": 240,
   "metadata": {
    "collapsed": false
   },
   "outputs": [],
   "source": [
    "#Depth Charts 2017 Hitter Projections\n",
    "\n",
    "for url in Hdc_urls.values():\n",
    "    text = BeautifulSoup(requests.get(url).text)\n",
    "    players = text.find_all('tr', {'class': ['rgRow', 'rgAltRow']})\n",
    "    for i in range(0, len(players)):\n",
    "        names = players[i].find_all('a')\n",
    "        teams = players[i].find_all('td')[2]\n",
    "        games = players[i].find_all('td')[3]\n",
    "        plates = players[i].find_all('td')[4]\n",
    "        wars = players[i].find_all('td')[24]\n",
    "        for n in names:\n",
    "            if n.string is not None:\n",
    "                Hdc_player_lst.append(n.string)\n",
    "        for t in teams:\n",
    "            if t.string is not None:\n",
    "                Hdc_team_lst.append(t.string)\n",
    "        for g in games:\n",
    "            if g.string is not None:\n",
    "                Hdc_g_lst.append(g.string)\n",
    "        for p in plates:\n",
    "            if p.string is not None:\n",
    "                Hdc_pa_lst.append(p.string) \n",
    "        for w in wars:\n",
    "            if w.string is not None:\n",
    "                Hdc_war_lst.append(w.string)"
   ]
  },
  {
   "cell_type": "code",
   "execution_count": 241,
   "metadata": {
    "collapsed": false
   },
   "outputs": [],
   "source": [
    "#Depth Charts 2017 Pitcher Projections\n",
    "\n",
    "for i in range(1,31):\n",
    "    url = 'http://www.fangraphs.com/projections.aspx?pos=all&stats=pit&type=fangraphsdc&team=' + str(i) + '&lg=all&players=0'\n",
    "    text = BeautifulSoup(requests.get(url).text)\n",
    "    players = text.find_all('tr', {'class': ['rgRow', 'rgAltRow']})\n",
    "    for i in range(0, len(players)):\n",
    "        names = players[i].find_all('a')\n",
    "        teams = players[i].find_all('td')[2]\n",
    "        games_started = players[i].find_all('td')[8]\n",
    "        innings = players[i].find_all('td')[10]\n",
    "        wars = players[i].find_all('td')[20]\n",
    "        for n in names:\n",
    "            if n.string is not None:\n",
    "                Pdc_player_lst.append(n.string)\n",
    "        for t in teams:\n",
    "            if t.string is not None:\n",
    "                Pdc_team_lst.append(t.string)\n",
    "        for g in games_started:\n",
    "            if t.string is not None:\n",
    "                Pdc_gs_lst.append(g.string)        \n",
    "        for i in innings:\n",
    "            if i.string is not None:\n",
    "                Pdc_ip_lst.append(i.string)\n",
    "        for w in wars:\n",
    "            if w.string is not None:\n",
    "                Pdc_war_lst.append(w.string)"
   ]
  },
  {
   "cell_type": "code",
   "execution_count": 242,
   "metadata": {
    "collapsed": true
   },
   "outputs": [],
   "source": [
    "#2016 Season Hitter Performance\n",
    "\n",
    "for k, v in H2016_urls.items():\n",
    "    text = BeautifulSoup(requests.get(v).text)\n",
    "    players = text.find_all('tr', {'class': ['rgRow', 'rgAltRow']})\n",
    "    for i in range(0, len(players)):\n",
    "        names = players[i].find_all('a')\n",
    "        plates = players[i].find_all('td')[3]\n",
    "        wars = players[i].find_all('td')[20]\n",
    "        [H2016_player_lst.append(n.string) for n in names]\n",
    "        H2016_team_lst.append(k)\n",
    "        [H2016_pa_lst.append(p.string) for p in plates]\n",
    "        [H2016_war_lst.append(w.string) for w in wars]"
   ]
  },
  {
   "cell_type": "code",
   "execution_count": 243,
   "metadata": {
    "collapsed": true
   },
   "outputs": [],
   "source": [
    "#2016 Season Pitcher Performance\n",
    "\n",
    "for k, v in P2016_urls.items():\n",
    "    text = BeautifulSoup(requests.get(v).text)\n",
    "    players = text.find_all('tr', {'class': ['rgRow', 'rgAltRow']})\n",
    "    for i in range(0, len(players)):\n",
    "        names = players[i].find_all('a')\n",
    "        innings = players[i].find_all('td')[7]\n",
    "        wars = players[i].find_all('td')[18]\n",
    "        [P2016_player_lst.append(n.string) for n in names]\n",
    "        P2016_team_lst.append(k)\n",
    "        [P2016_ip_lst.append(i.string) for i in innings]\n",
    "        [P2016_war_lst.append(w.string) for w in wars]"
   ]
  },
  {
   "cell_type": "code",
   "execution_count": 244,
   "metadata": {
    "collapsed": false
   },
   "outputs": [],
   "source": [
    "h_depthcharts = pd.DataFrame([Hdc_player_lst, Hdc_team_lst, Hdc_g_lst, Hdc_pa_lst, Hdc_war_lst]).T\n",
    "h_depthcharts.columns = ['player', 'team','games', 'pa', 'war']\n",
    "h_depthcharts['2017_G'] = h_depthcharts['games'].astype(float)\n",
    "h_depthcharts['2017_PA'] = h_depthcharts['pa'].astype(float)\n",
    "h_depthcharts['2017_WAR_H'] = h_depthcharts['war'].astype(float)"
   ]
  },
  {
   "cell_type": "code",
   "execution_count": 245,
   "metadata": {
    "collapsed": false
   },
   "outputs": [],
   "source": [
    "h_depthcharts.loc[(h_depthcharts.loc[:,'team'] == 'Dodgers') & (h_depthcharts.loc[:,'pa'] == '163'),'player'] = 'Enrique Hernandez'"
   ]
  },
  {
   "cell_type": "code",
   "execution_count": 246,
   "metadata": {
    "collapsed": false
   },
   "outputs": [],
   "source": [
    "p_depthcharts = pd.DataFrame([Pdc_player_lst, Pdc_team_lst, Pdc_gs_lst, Pdc_ip_lst, Pdc_war_lst]).T\n",
    "p_depthcharts.columns = ['player', 'team', 'gs', 'ip', 'war']\n",
    "p_depthcharts['2017_GS'] = p_depthcharts['gs'].astype(float)\n",
    "p_depthcharts['2017_IP'] = p_depthcharts['ip'].astype(float)\n",
    "p_depthcharts['2017_WAR_P'] = p_depthcharts['war'].astype(float)"
   ]
  },
  {
   "cell_type": "code",
   "execution_count": 247,
   "metadata": {
    "collapsed": true
   },
   "outputs": [],
   "source": [
    "h_2016 = pd.DataFrame([H2016_player_lst, H2016_team_lst, H2016_pa_lst, H2016_war_lst]).T\n",
    "h_2016.columns = ['player', 'team', 'pa', 'war']\n",
    "h_2016['pa'] = h_2016['pa'].astype(float)\n",
    "h_2016['war'] = h_2016['war'].astype(float)"
   ]
  },
  {
   "cell_type": "code",
   "execution_count": 248,
   "metadata": {
    "collapsed": false
   },
   "outputs": [],
   "source": [
    "p_2016 = pd.DataFrame([P2016_player_lst, P2016_team_lst, P2016_ip_lst, P2016_war_lst]).T\n",
    "p_2016.columns = ['player', 'team', 'ip', 'war']\n",
    "p_2016['ip'] = p_2016['ip'].astype(float)\n",
    "p_2016['war'] = p_2016['war'].astype(float)"
   ]
  },
  {
   "cell_type": "code",
   "execution_count": 249,
   "metadata": {
    "collapsed": false
   },
   "outputs": [],
   "source": [
    "writer = pd.ExcelWriter('mlb2017_master.xlsx')\n",
    "h_depthcharts.to_excel(writer, sheet_name = 'Depth Charts Hitters')\n",
    "p_depthcharts.to_excel(writer, sheet_name = 'Depth Charts Pitchers')\n",
    "h_2016.to_excel(writer, sheet_name = '2016 Season Hitters')\n",
    "p_2016.to_excel(writer, sheet_name = '2016 Season Pitchers')\n",
    "writer.save()"
   ]
  },
  {
   "cell_type": "code",
   "execution_count": 250,
   "metadata": {
    "collapsed": false
   },
   "outputs": [],
   "source": [
    "winTotals2016 = pd.read_csv('2016_win_totals.csv')\n",
    "pitching_data_2016 = pd.read_csv('2016_pitching_data.csv')\n",
    "results2016 = winTotals2016.merge(pitching_data_2016, left_on='Tm', right_on='team')"
   ]
  },
  {
   "cell_type": "code",
   "execution_count": 251,
   "metadata": {
    "collapsed": false
   },
   "outputs": [],
   "source": [
    "results2016 = results2016[['Tm','Lg','R','RA','clusterLuck_R','clusterLuck_RA','2016_PA','2016_WAR_H','total_ip',\n",
    "                      'starter_perc','2016_starter_war','2016_reliever_war']]"
   ]
  },
  {
   "cell_type": "code",
   "execution_count": 252,
   "metadata": {
    "collapsed": false,
    "scrolled": false
   },
   "outputs": [
    {
     "data": {
      "text/html": [
       "<div>\n",
       "<table border=\"1\" class=\"dataframe\">\n",
       "  <thead>\n",
       "    <tr style=\"text-align: right;\">\n",
       "      <th></th>\n",
       "      <th>Tm</th>\n",
       "      <th>Lg</th>\n",
       "      <th>R</th>\n",
       "      <th>RA</th>\n",
       "      <th>clusterLuck_R</th>\n",
       "      <th>clusterLuck_RA</th>\n",
       "      <th>2016_PA</th>\n",
       "      <th>2016_WAR_H</th>\n",
       "      <th>total_ip</th>\n",
       "      <th>starter_perc</th>\n",
       "      <th>2016_starter_war</th>\n",
       "      <th>2016_reliever_war</th>\n",
       "    </tr>\n",
       "  </thead>\n",
       "  <tbody>\n",
       "    <tr>\n",
       "      <th>0</th>\n",
       "      <td>blue jays</td>\n",
       "      <td>AL</td>\n",
       "      <td>759</td>\n",
       "      <td>666</td>\n",
       "      <td>-18.1</td>\n",
       "      <td>-0.2</td>\n",
       "      <td>6233</td>\n",
       "      <td>23.3</td>\n",
       "      <td>1459.1</td>\n",
       "      <td>0.682</td>\n",
       "      <td>15.3</td>\n",
       "      <td>3.9</td>\n",
       "    </tr>\n",
       "    <tr>\n",
       "      <th>1</th>\n",
       "      <td>rays</td>\n",
       "      <td>AL</td>\n",
       "      <td>672</td>\n",
       "      <td>713</td>\n",
       "      <td>-32.2</td>\n",
       "      <td>9.1</td>\n",
       "      <td>6046</td>\n",
       "      <td>17.8</td>\n",
       "      <td>1426.1</td>\n",
       "      <td>0.645</td>\n",
       "      <td>11.9</td>\n",
       "      <td>0.1</td>\n",
       "    </tr>\n",
       "    <tr>\n",
       "      <th>2</th>\n",
       "      <td>athletics</td>\n",
       "      <td>AL</td>\n",
       "      <td>653</td>\n",
       "      <td>761</td>\n",
       "      <td>-9.6</td>\n",
       "      <td>-19.1</td>\n",
       "      <td>4953</td>\n",
       "      <td>8.1</td>\n",
       "      <td>1433.1</td>\n",
       "      <td>0.608</td>\n",
       "      <td>7.2</td>\n",
       "      <td>4.6</td>\n",
       "    </tr>\n",
       "    <tr>\n",
       "      <th>3</th>\n",
       "      <td>orioles</td>\n",
       "      <td>AL</td>\n",
       "      <td>744</td>\n",
       "      <td>715</td>\n",
       "      <td>-23.1</td>\n",
       "      <td>34.7</td>\n",
       "      <td>6089</td>\n",
       "      <td>19.3</td>\n",
       "      <td>1432.0</td>\n",
       "      <td>0.619</td>\n",
       "      <td>9.5</td>\n",
       "      <td>5.5</td>\n",
       "    </tr>\n",
       "    <tr>\n",
       "      <th>4</th>\n",
       "      <td>cubs</td>\n",
       "      <td>NL</td>\n",
       "      <td>808</td>\n",
       "      <td>556</td>\n",
       "      <td>13.0</td>\n",
       "      <td>-13.4</td>\n",
       "      <td>6123</td>\n",
       "      <td>39.8</td>\n",
       "      <td>1459.2</td>\n",
       "      <td>0.678</td>\n",
       "      <td>17.3</td>\n",
       "      <td>3.2</td>\n",
       "    </tr>\n",
       "    <tr>\n",
       "      <th>5</th>\n",
       "      <td>cardinals</td>\n",
       "      <td>NL</td>\n",
       "      <td>779</td>\n",
       "      <td>712</td>\n",
       "      <td>-5.0</td>\n",
       "      <td>-2.9</td>\n",
       "      <td>5770</td>\n",
       "      <td>23.7</td>\n",
       "      <td>1448.1</td>\n",
       "      <td>0.645</td>\n",
       "      <td>13.3</td>\n",
       "      <td>4.2</td>\n",
       "    </tr>\n",
       "    <tr>\n",
       "      <th>6</th>\n",
       "      <td>royals</td>\n",
       "      <td>AL</td>\n",
       "      <td>675</td>\n",
       "      <td>712</td>\n",
       "      <td>-1.6</td>\n",
       "      <td>45.0</td>\n",
       "      <td>6052</td>\n",
       "      <td>13.8</td>\n",
       "      <td>1439.3</td>\n",
       "      <td>0.625</td>\n",
       "      <td>5.6</td>\n",
       "      <td>4.9</td>\n",
       "    </tr>\n",
       "    <tr>\n",
       "      <th>7</th>\n",
       "      <td>red sox</td>\n",
       "      <td>AL</td>\n",
       "      <td>878</td>\n",
       "      <td>694</td>\n",
       "      <td>-11.2</td>\n",
       "      <td>-20.7</td>\n",
       "      <td>6070</td>\n",
       "      <td>34.6</td>\n",
       "      <td>1439.2</td>\n",
       "      <td>0.673</td>\n",
       "      <td>13.8</td>\n",
       "      <td>4.9</td>\n",
       "    </tr>\n",
       "    <tr>\n",
       "      <th>8</th>\n",
       "      <td>mariners</td>\n",
       "      <td>AL</td>\n",
       "      <td>768</td>\n",
       "      <td>707</td>\n",
       "      <td>4.4</td>\n",
       "      <td>26.7</td>\n",
       "      <td>6227</td>\n",
       "      <td>21.0</td>\n",
       "      <td>1456.3</td>\n",
       "      <td>0.641</td>\n",
       "      <td>9.0</td>\n",
       "      <td>3.9</td>\n",
       "    </tr>\n",
       "    <tr>\n",
       "      <th>9</th>\n",
       "      <td>rangers</td>\n",
       "      <td>AL</td>\n",
       "      <td>765</td>\n",
       "      <td>757</td>\n",
       "      <td>16.0</td>\n",
       "      <td>10.0</td>\n",
       "      <td>6089</td>\n",
       "      <td>19.0</td>\n",
       "      <td>1442.3</td>\n",
       "      <td>0.639</td>\n",
       "      <td>7.9</td>\n",
       "      <td>1.7</td>\n",
       "    </tr>\n",
       "    <tr>\n",
       "      <th>10</th>\n",
       "      <td>yankees</td>\n",
       "      <td>AL</td>\n",
       "      <td>680</td>\n",
       "      <td>702</td>\n",
       "      <td>-14.6</td>\n",
       "      <td>8.5</td>\n",
       "      <td>6058</td>\n",
       "      <td>14.8</td>\n",
       "      <td>1428.1</td>\n",
       "      <td>0.641</td>\n",
       "      <td>11.7</td>\n",
       "      <td>6.5</td>\n",
       "    </tr>\n",
       "    <tr>\n",
       "      <th>11</th>\n",
       "      <td>twins</td>\n",
       "      <td>AL</td>\n",
       "      <td>722</td>\n",
       "      <td>889</td>\n",
       "      <td>-23.7</td>\n",
       "      <td>-17.3</td>\n",
       "      <td>5997</td>\n",
       "      <td>13.8</td>\n",
       "      <td>1442.3</td>\n",
       "      <td>0.607</td>\n",
       "      <td>6.0</td>\n",
       "      <td>2.1</td>\n",
       "    </tr>\n",
       "    <tr>\n",
       "      <th>12</th>\n",
       "      <td>brewers</td>\n",
       "      <td>NL</td>\n",
       "      <td>671</td>\n",
       "      <td>733</td>\n",
       "      <td>-44.0</td>\n",
       "      <td>36.8</td>\n",
       "      <td>5353</td>\n",
       "      <td>15.8</td>\n",
       "      <td>1434.1</td>\n",
       "      <td>0.616</td>\n",
       "      <td>8.5</td>\n",
       "      <td>4.8</td>\n",
       "    </tr>\n",
       "    <tr>\n",
       "      <th>13</th>\n",
       "      <td>angels</td>\n",
       "      <td>AL</td>\n",
       "      <td>717</td>\n",
       "      <td>727</td>\n",
       "      <td>22.5</td>\n",
       "      <td>58.8</td>\n",
       "      <td>6041</td>\n",
       "      <td>21.7</td>\n",
       "      <td>1421.1</td>\n",
       "      <td>0.617</td>\n",
       "      <td>5.6</td>\n",
       "      <td>0.3</td>\n",
       "    </tr>\n",
       "    <tr>\n",
       "      <th>14</th>\n",
       "      <td>giants</td>\n",
       "      <td>NL</td>\n",
       "      <td>715</td>\n",
       "      <td>631</td>\n",
       "      <td>-20.5</td>\n",
       "      <td>12.9</td>\n",
       "      <td>5801</td>\n",
       "      <td>29.1</td>\n",
       "      <td>1460.1</td>\n",
       "      <td>0.673</td>\n",
       "      <td>15.0</td>\n",
       "      <td>2.1</td>\n",
       "    </tr>\n",
       "    <tr>\n",
       "      <th>15</th>\n",
       "      <td>white sox</td>\n",
       "      <td>AL</td>\n",
       "      <td>686</td>\n",
       "      <td>715</td>\n",
       "      <td>-25.9</td>\n",
       "      <td>28.6</td>\n",
       "      <td>5890</td>\n",
       "      <td>16.9</td>\n",
       "      <td>1446.2</td>\n",
       "      <td>0.676</td>\n",
       "      <td>12.9</td>\n",
       "      <td>3.7</td>\n",
       "    </tr>\n",
       "    <tr>\n",
       "      <th>16</th>\n",
       "      <td>tigers</td>\n",
       "      <td>AL</td>\n",
       "      <td>750</td>\n",
       "      <td>721</td>\n",
       "      <td>-34.0</td>\n",
       "      <td>7.7</td>\n",
       "      <td>6127</td>\n",
       "      <td>20.3</td>\n",
       "      <td>1427.3</td>\n",
       "      <td>0.643</td>\n",
       "      <td>12.5</td>\n",
       "      <td>4.3</td>\n",
       "    </tr>\n",
       "    <tr>\n",
       "      <th>17</th>\n",
       "      <td>reds</td>\n",
       "      <td>NL</td>\n",
       "      <td>716</td>\n",
       "      <td>854</td>\n",
       "      <td>16.6</td>\n",
       "      <td>9.1</td>\n",
       "      <td>5341</td>\n",
       "      <td>19.1</td>\n",
       "      <td>1442.0</td>\n",
       "      <td>0.596</td>\n",
       "      <td>3.1</td>\n",
       "      <td>-3.6</td>\n",
       "    </tr>\n",
       "    <tr>\n",
       "      <th>18</th>\n",
       "      <td>dodgers</td>\n",
       "      <td>NL</td>\n",
       "      <td>725</td>\n",
       "      <td>638</td>\n",
       "      <td>4.7</td>\n",
       "      <td>-31.4</td>\n",
       "      <td>5509</td>\n",
       "      <td>27.8</td>\n",
       "      <td>1452.3</td>\n",
       "      <td>0.594</td>\n",
       "      <td>16.4</td>\n",
       "      <td>6.5</td>\n",
       "    </tr>\n",
       "    <tr>\n",
       "      <th>19</th>\n",
       "      <td>rockies</td>\n",
       "      <td>NL</td>\n",
       "      <td>845</td>\n",
       "      <td>860</td>\n",
       "      <td>6.5</td>\n",
       "      <td>-25.2</td>\n",
       "      <td>5380</td>\n",
       "      <td>21.0</td>\n",
       "      <td>1429.1</td>\n",
       "      <td>0.633</td>\n",
       "      <td>12.1</td>\n",
       "      <td>2.2</td>\n",
       "    </tr>\n",
       "    <tr>\n",
       "      <th>20</th>\n",
       "      <td>astros</td>\n",
       "      <td>AL</td>\n",
       "      <td>724</td>\n",
       "      <td>701</td>\n",
       "      <td>-13.9</td>\n",
       "      <td>34.2</td>\n",
       "      <td>6204</td>\n",
       "      <td>19.9</td>\n",
       "      <td>1468.0</td>\n",
       "      <td>0.625</td>\n",
       "      <td>12.1</td>\n",
       "      <td>7.9</td>\n",
       "    </tr>\n",
       "    <tr>\n",
       "      <th>21</th>\n",
       "      <td>pirates</td>\n",
       "      <td>NL</td>\n",
       "      <td>729</td>\n",
       "      <td>758</td>\n",
       "      <td>1.6</td>\n",
       "      <td>42.9</td>\n",
       "      <td>5761</td>\n",
       "      <td>21.5</td>\n",
       "      <td>1450.2</td>\n",
       "      <td>0.597</td>\n",
       "      <td>7.1</td>\n",
       "      <td>1.2</td>\n",
       "    </tr>\n",
       "    <tr>\n",
       "      <th>22</th>\n",
       "      <td>indians</td>\n",
       "      <td>AL</td>\n",
       "      <td>777</td>\n",
       "      <td>676</td>\n",
       "      <td>7.7</td>\n",
       "      <td>17.1</td>\n",
       "      <td>6155</td>\n",
       "      <td>27.2</td>\n",
       "      <td>1444.3</td>\n",
       "      <td>0.648</td>\n",
       "      <td>13.8</td>\n",
       "      <td>5.0</td>\n",
       "    </tr>\n",
       "    <tr>\n",
       "      <th>23</th>\n",
       "      <td>nationals</td>\n",
       "      <td>NL</td>\n",
       "      <td>763</td>\n",
       "      <td>612</td>\n",
       "      <td>8.3</td>\n",
       "      <td>8.6</td>\n",
       "      <td>5127</td>\n",
       "      <td>27.1</td>\n",
       "      <td>1459.2</td>\n",
       "      <td>0.658</td>\n",
       "      <td>18.1</td>\n",
       "      <td>5.2</td>\n",
       "    </tr>\n",
       "    <tr>\n",
       "      <th>24</th>\n",
       "      <td>diamondbacks</td>\n",
       "      <td>NL</td>\n",
       "      <td>752</td>\n",
       "      <td>890</td>\n",
       "      <td>-16.7</td>\n",
       "      <td>-10.8</td>\n",
       "      <td>5502</td>\n",
       "      <td>18.6</td>\n",
       "      <td>1451.1</td>\n",
       "      <td>0.609</td>\n",
       "      <td>7.9</td>\n",
       "      <td>0.5</td>\n",
       "    </tr>\n",
       "    <tr>\n",
       "      <th>25</th>\n",
       "      <td>braves</td>\n",
       "      <td>NL</td>\n",
       "      <td>649</td>\n",
       "      <td>779</td>\n",
       "      <td>-58.9</td>\n",
       "      <td>-25.9</td>\n",
       "      <td>4846</td>\n",
       "      <td>15.9</td>\n",
       "      <td>1447.2</td>\n",
       "      <td>0.608</td>\n",
       "      <td>4.7</td>\n",
       "      <td>4.1</td>\n",
       "    </tr>\n",
       "    <tr>\n",
       "      <th>26</th>\n",
       "      <td>marlins</td>\n",
       "      <td>NL</td>\n",
       "      <td>655</td>\n",
       "      <td>682</td>\n",
       "      <td>-31.3</td>\n",
       "      <td>23.5</td>\n",
       "      <td>5505</td>\n",
       "      <td>22.5</td>\n",
       "      <td>1434.3</td>\n",
       "      <td>0.610</td>\n",
       "      <td>10.4</td>\n",
       "      <td>3.8</td>\n",
       "    </tr>\n",
       "    <tr>\n",
       "      <th>27</th>\n",
       "      <td>padres</td>\n",
       "      <td>NL</td>\n",
       "      <td>686</td>\n",
       "      <td>770</td>\n",
       "      <td>48.9</td>\n",
       "      <td>1.7</td>\n",
       "      <td>4422</td>\n",
       "      <td>18.3</td>\n",
       "      <td>1440.0</td>\n",
       "      <td>0.614</td>\n",
       "      <td>6.4</td>\n",
       "      <td>2.9</td>\n",
       "    </tr>\n",
       "    <tr>\n",
       "      <th>28</th>\n",
       "      <td>mets</td>\n",
       "      <td>NL</td>\n",
       "      <td>671</td>\n",
       "      <td>617</td>\n",
       "      <td>-45.9</td>\n",
       "      <td>53.2</td>\n",
       "      <td>5134</td>\n",
       "      <td>22.2</td>\n",
       "      <td>1447.0</td>\n",
       "      <td>0.637</td>\n",
       "      <td>18.3</td>\n",
       "      <td>6.6</td>\n",
       "    </tr>\n",
       "    <tr>\n",
       "      <th>29</th>\n",
       "      <td>phillies</td>\n",
       "      <td>NL</td>\n",
       "      <td>610</td>\n",
       "      <td>796</td>\n",
       "      <td>-15.6</td>\n",
       "      <td>-10.4</td>\n",
       "      <td>4759</td>\n",
       "      <td>16.6</td>\n",
       "      <td>1437.0</td>\n",
       "      <td>0.633</td>\n",
       "      <td>12.6</td>\n",
       "      <td>0.4</td>\n",
       "    </tr>\n",
       "  </tbody>\n",
       "</table>\n",
       "</div>"
      ],
      "text/plain": [
       "              Tm  Lg    R   RA  clusterLuck_R  clusterLuck_RA  2016_PA  \\\n",
       "0      blue jays  AL  759  666          -18.1            -0.2     6233   \n",
       "1           rays  AL  672  713          -32.2             9.1     6046   \n",
       "2      athletics  AL  653  761           -9.6           -19.1     4953   \n",
       "3        orioles  AL  744  715          -23.1            34.7     6089   \n",
       "4           cubs  NL  808  556           13.0           -13.4     6123   \n",
       "5      cardinals  NL  779  712           -5.0            -2.9     5770   \n",
       "6         royals  AL  675  712           -1.6            45.0     6052   \n",
       "7        red sox  AL  878  694          -11.2           -20.7     6070   \n",
       "8       mariners  AL  768  707            4.4            26.7     6227   \n",
       "9        rangers  AL  765  757           16.0            10.0     6089   \n",
       "10       yankees  AL  680  702          -14.6             8.5     6058   \n",
       "11         twins  AL  722  889          -23.7           -17.3     5997   \n",
       "12       brewers  NL  671  733          -44.0            36.8     5353   \n",
       "13        angels  AL  717  727           22.5            58.8     6041   \n",
       "14        giants  NL  715  631          -20.5            12.9     5801   \n",
       "15     white sox  AL  686  715          -25.9            28.6     5890   \n",
       "16        tigers  AL  750  721          -34.0             7.7     6127   \n",
       "17          reds  NL  716  854           16.6             9.1     5341   \n",
       "18       dodgers  NL  725  638            4.7           -31.4     5509   \n",
       "19       rockies  NL  845  860            6.5           -25.2     5380   \n",
       "20        astros  AL  724  701          -13.9            34.2     6204   \n",
       "21       pirates  NL  729  758            1.6            42.9     5761   \n",
       "22       indians  AL  777  676            7.7            17.1     6155   \n",
       "23     nationals  NL  763  612            8.3             8.6     5127   \n",
       "24  diamondbacks  NL  752  890          -16.7           -10.8     5502   \n",
       "25        braves  NL  649  779          -58.9           -25.9     4846   \n",
       "26       marlins  NL  655  682          -31.3            23.5     5505   \n",
       "27        padres  NL  686  770           48.9             1.7     4422   \n",
       "28          mets  NL  671  617          -45.9            53.2     5134   \n",
       "29      phillies  NL  610  796          -15.6           -10.4     4759   \n",
       "\n",
       "    2016_WAR_H  total_ip  starter_perc  2016_starter_war  2016_reliever_war  \n",
       "0         23.3    1459.1         0.682              15.3                3.9  \n",
       "1         17.8    1426.1         0.645              11.9                0.1  \n",
       "2          8.1    1433.1         0.608               7.2                4.6  \n",
       "3         19.3    1432.0         0.619               9.5                5.5  \n",
       "4         39.8    1459.2         0.678              17.3                3.2  \n",
       "5         23.7    1448.1         0.645              13.3                4.2  \n",
       "6         13.8    1439.3         0.625               5.6                4.9  \n",
       "7         34.6    1439.2         0.673              13.8                4.9  \n",
       "8         21.0    1456.3         0.641               9.0                3.9  \n",
       "9         19.0    1442.3         0.639               7.9                1.7  \n",
       "10        14.8    1428.1         0.641              11.7                6.5  \n",
       "11        13.8    1442.3         0.607               6.0                2.1  \n",
       "12        15.8    1434.1         0.616               8.5                4.8  \n",
       "13        21.7    1421.1         0.617               5.6                0.3  \n",
       "14        29.1    1460.1         0.673              15.0                2.1  \n",
       "15        16.9    1446.2         0.676              12.9                3.7  \n",
       "16        20.3    1427.3         0.643              12.5                4.3  \n",
       "17        19.1    1442.0         0.596               3.1               -3.6  \n",
       "18        27.8    1452.3         0.594              16.4                6.5  \n",
       "19        21.0    1429.1         0.633              12.1                2.2  \n",
       "20        19.9    1468.0         0.625              12.1                7.9  \n",
       "21        21.5    1450.2         0.597               7.1                1.2  \n",
       "22        27.2    1444.3         0.648              13.8                5.0  \n",
       "23        27.1    1459.2         0.658              18.1                5.2  \n",
       "24        18.6    1451.1         0.609               7.9                0.5  \n",
       "25        15.9    1447.2         0.608               4.7                4.1  \n",
       "26        22.5    1434.3         0.610              10.4                3.8  \n",
       "27        18.3    1440.0         0.614               6.4                2.9  \n",
       "28        22.2    1447.0         0.637              18.3                6.6  \n",
       "29        16.6    1437.0         0.633              12.6                0.4  "
      ]
     },
     "execution_count": 252,
     "metadata": {},
     "output_type": "execute_result"
    }
   ],
   "source": [
    "results2016"
   ]
  },
  {
   "cell_type": "code",
   "execution_count": 253,
   "metadata": {
    "collapsed": true
   },
   "outputs": [],
   "source": [
    "###### Daily Lineups\n",
    "lineup_url = 'http://www.baseballpress.com/lineups'\n",
    "lineup_text = BeautifulSoup(requests.get(lineup_url).text)\n",
    "team_data = lineup_text.find_all('div', {'class': ['team-data']})"
   ]
  },
  {
   "cell_type": "code",
   "execution_count": 254,
   "metadata": {
    "collapsed": true
   },
   "outputs": [],
   "source": [
    "daily_pitchers = []\n",
    "for i in team_data:\n",
    "    starters = i.find_all('a', {'class': ['player-link']})\n",
    "    for i in starters:\n",
    "        daily_pitchers.append(i.string)"
   ]
  },
  {
   "cell_type": "code",
   "execution_count": 255,
   "metadata": {
    "collapsed": true
   },
   "outputs": [],
   "source": [
    "daily_pitchers = pd.DataFrame(daily_pitchers, columns = ['pitcher'])\n",
    "daily_pitchers_war = daily_pitchers.merge(p_depthcharts, left_on = 'pitcher', right_on = 'player')\n",
    "daily_pitchers_war = daily_pitchers_war.drop(['player', 'gs', 'ip', 'war'], 1)"
   ]
  },
  {
   "cell_type": "code",
   "execution_count": 256,
   "metadata": {
    "collapsed": true
   },
   "outputs": [],
   "source": [
    "team_lineup = lineup_text.find_all('div', {'class': ['team-lineup']})\n",
    "daily_hitters = []\n",
    "for i in team_lineup:\n",
    "    hitters = i.find_all('a', {'class': ['player-link']})\n",
    "    for i in hitters:\n",
    "        daily_hitters.append(i.string)\n",
    "\n",
    "daily_hitters = pd.DataFrame(daily_hitters, columns = ['hitter'])"
   ]
  },
  {
   "cell_type": "code",
   "execution_count": 257,
   "metadata": {
    "collapsed": false
   },
   "outputs": [],
   "source": [
    "h_depthcharts[(h_depthcharts['player'] == 'Craig Gentry') & (h_depthcharts['pa'] == '280')] = 'Craig Gentry 2'"
   ]
  },
  {
   "cell_type": "code",
   "execution_count": 258,
   "metadata": {
    "collapsed": true
   },
   "outputs": [],
   "source": [
    "daily_hitters[daily_hitters['hitter'] == 'Nicholas Castellanos'] = 'Nick Castellanos'\n",
    "daily_hitters[daily_hitters['hitter'] == 'Greg Bird'] = 'Gregory Bird'"
   ]
  },
  {
   "cell_type": "code",
   "execution_count": 259,
   "metadata": {
    "collapsed": true
   },
   "outputs": [],
   "source": [
    "daily_hitters_war = daily_hitters.merge(h_depthcharts, left_on = 'hitter', right_on = 'player')\n",
    "daily_hitters_war = daily_hitters_war.drop(['player', 'pa', 'war'], 1)\n",
    "daily_hitters_war['team'] = daily_hitters_war['team'].str.lower()"
   ]
  },
  {
   "cell_type": "code",
   "execution_count": 260,
   "metadata": {
    "collapsed": true
   },
   "outputs": [],
   "source": [
    "#####Daily WAR Grouped by Team\n",
    "\n",
    "daily_tm_hitter_war = daily_hitters_war.groupby('team', as_index = False).sum()\n",
    "daily_tm_hitter_count = daily_hitters_war.groupby('team', as_index = False).count()\n",
    "daily_tm_hitter_count = daily_tm_hitter_count[['team','hitter']]\n",
    "daily_tm_pitcher_war = daily_pitchers_war.groupby('team', as_index = False).sum()\n",
    "daily_tm_pitcher_war = daily_tm_pitcher_war[['team','2017_IP','2017_WAR_P']]"
   ]
  },
  {
   "cell_type": "code",
   "execution_count": 261,
   "metadata": {
    "collapsed": false
   },
   "outputs": [],
   "source": [
    "daily_tm_hitter_war['team'] = daily_tm_hitter_war['team'].str.lower()\n",
    "daily_tm_hitter_count['team'] = daily_tm_hitter_count['team'].str.lower()\n",
    "daily_tm_pitcher_war['team'] = daily_tm_pitcher_war['team'].str.lower()"
   ]
  },
  {
   "cell_type": "code",
   "execution_count": 262,
   "metadata": {
    "collapsed": false
   },
   "outputs": [],
   "source": [
    "#### Merging the Daily Lineup WARs with the 2016 Results\n",
    "\n",
    "daily_merge = results2016.merge(daily_tm_hitter_war, left_on='Tm', right_on='team')\n",
    "daily_merge = daily_merge.drop(['team'],1)\n",
    "daily_merge = daily_merge.merge(daily_tm_hitter_count, left_on='Tm', right_on='team')\n",
    "daily_merge = daily_merge.drop(['team'],1)\n",
    "daily_merge = daily_merge.merge(daily_tm_pitcher_war, left_on='Tm', right_on='team')\n",
    "daily_merge = daily_merge.drop(['team'],1)"
   ]
  },
  {
   "cell_type": "code",
   "execution_count": 263,
   "metadata": {
    "collapsed": false
   },
   "outputs": [],
   "source": [
    "daily_merge = daily_merge[['Tm','Lg','R','RA','clusterLuck_R','clusterLuck_RA','2016_PA','2016_WAR_H','hitter',\n",
    "                          '2017_G','2017_PA','2017_WAR_H','total_ip','starter_perc','2016_starter_war',\n",
    "                          '2016_reliever_war','2017_IP','2017_WAR_P']]"
   ]
  },
  {
   "cell_type": "code",
   "execution_count": 264,
   "metadata": {
    "collapsed": false
   },
   "outputs": [],
   "source": [
    "daily_merge['norm_war_h'] = daily_merge['2016_PA'] / daily_merge['2017_PA'] * daily_merge['2017_WAR_H']"
   ]
  },
  {
   "cell_type": "code",
   "execution_count": 265,
   "metadata": {
    "collapsed": true
   },
   "outputs": [],
   "source": [
    "daily_merge['norm_war_sp'] = (daily_merge['total_ip'] * daily_merge['starter_perc'])  / daily_merge['2017_IP'] * daily_merge['2017_WAR_P']"
   ]
  },
  {
   "cell_type": "code",
   "execution_count": 266,
   "metadata": {
    "collapsed": false
   },
   "outputs": [],
   "source": [
    "daily_merge['net_war_h'] = daily_merge['norm_war_h'] - daily_merge['2016_WAR_H']\n",
    "daily_merge['net_war_sp'] = daily_merge['norm_war_sp'] - daily_merge['2016_starter_war']"
   ]
  },
  {
   "cell_type": "code",
   "execution_count": 267,
   "metadata": {
    "collapsed": false
   },
   "outputs": [],
   "source": [
    "daily_merge['adjusted_R'] = daily_merge['R'] - daily_merge['clusterLuck_R'] + (daily_merge['net_war_h'] * 10)\n",
    "daily_merge['adjusted_RA'] = daily_merge['RA'] + daily_merge['clusterLuck_RA'] - (daily_merge['net_war_sp'] * 10)"
   ]
  },
  {
   "cell_type": "code",
   "execution_count": 268,
   "metadata": {
    "collapsed": false
   },
   "outputs": [],
   "source": [
    "daily_merge['proj_win_%'] = (daily_merge['adjusted_R'] ** 1.83) / (daily_merge['adjusted_R'] ** 1.83 + daily_merge['adjusted_RA'] ** 1.83)\n",
    "daily_merge['proj_win_%'] = daily_merge['proj_win_%'].round(3)"
   ]
  },
  {
   "cell_type": "code",
   "execution_count": 269,
   "metadata": {
    "collapsed": false
   },
   "outputs": [],
   "source": [
    "daily_output = daily_merge[['Tm','Lg','hitter','proj_win_%']]"
   ]
  },
  {
   "cell_type": "code",
   "execution_count": 270,
   "metadata": {
    "collapsed": true
   },
   "outputs": [],
   "source": [
    "#### Daily Bets\n",
    "dailyBets_url = 'https://www.betdsi.eu/live-lines/baseball/major-league-baseball'\n",
    "dailyBets_text = BeautifulSoup(requests.get(dailyBets_url).text)"
   ]
  },
  {
   "cell_type": "code",
   "execution_count": 271,
   "metadata": {
    "collapsed": false
   },
   "outputs": [],
   "source": [
    "matchups = dailyBets_text.find_all('div', {'class': ['matchup']})"
   ]
  },
  {
   "cell_type": "code",
   "execution_count": 272,
   "metadata": {
    "collapsed": true
   },
   "outputs": [],
   "source": [
    "homeTeam_lst = []\n",
    "homeTeam_moneyLine = []"
   ]
  },
  {
   "cell_type": "code",
   "execution_count": 273,
   "metadata": {
    "collapsed": false
   },
   "outputs": [],
   "source": [
    "#Home Teams\n",
    "for i in matchups:\n",
    "    home_teams = i.find_all('div', {'class': 'oddsD hTeam'})\n",
    "    for h in home_teams:\n",
    "        home_team = h.find_all('div', {'class': ['team']})\n",
    "        line = h.find_all('div', {'class': ['money']})\n",
    "        for t in home_team:\n",
    "            v = t.find_all('span')\n",
    "            homeTeam_lst.append(v[0].string)\n",
    "        for l in line:\n",
    "            drill = l.find_all('span')\n",
    "            homeTeam_moneyLine.append(int(drill[1].string.rstrip()))"
   ]
  },
  {
   "cell_type": "code",
   "execution_count": 274,
   "metadata": {
    "collapsed": true
   },
   "outputs": [],
   "source": [
    "awayTeam_lst = []\n",
    "awayTeam_moneyLine = []"
   ]
  },
  {
   "cell_type": "code",
   "execution_count": 275,
   "metadata": {
    "collapsed": true
   },
   "outputs": [],
   "source": [
    "#Away Teams\n",
    "for i in matchups:\n",
    "    away_teams = i.find_all('div', {'class': 'oddsD vTeam'})\n",
    "    for a in away_teams:\n",
    "        away_team = a.find_all('div', {'class': ['team']})\n",
    "        line = a.find_all('div', {'class': ['money']})\n",
    "        for t in away_team:\n",
    "            v = t.find_all('span')\n",
    "            awayTeam_lst.append(v[0].string)\n",
    "        for l in line:\n",
    "            drill = l.find_all('span')\n",
    "            awayTeam_moneyLine.append(int(drill[1].string.rstrip()))"
   ]
  },
  {
   "cell_type": "code",
   "execution_count": 276,
   "metadata": {
    "collapsed": false
   },
   "outputs": [],
   "source": [
    "moneyLines_df = pd.DataFrame(\n",
    "    {'home_team': homeTeam_lst,\n",
    "     'homeTm_moneyLine': homeTeam_moneyLine,\n",
    "     'away_team': awayTeam_lst,\n",
    "     'awayTm_moneyLine': awayTeam_moneyLine\n",
    "    })\n",
    "\n",
    "moneyLines_df = moneyLines_df[['home_team', 'homeTm_moneyLine', 'away_team', 'awayTm_moneyLine']]"
   ]
  },
  {
   "cell_type": "code",
   "execution_count": 277,
   "metadata": {
    "collapsed": true
   },
   "outputs": [],
   "source": [
    "homeTm_impliedOdds = []\n",
    "awayTm_impliedOdds = []"
   ]
  },
  {
   "cell_type": "code",
   "execution_count": 278,
   "metadata": {
    "collapsed": false
   },
   "outputs": [],
   "source": [
    "for i in moneyLines_df['homeTm_moneyLine']:\n",
    "    if i < 0:\n",
    "        homeTm_impliedOdds.append(round(abs(i) / (abs(i) + 100.00), 3))\n",
    "    elif i > 0:\n",
    "        homeTm_impliedOdds.append(round(100.00 / (100.00 + i), 3))"
   ]
  },
  {
   "cell_type": "code",
   "execution_count": 279,
   "metadata": {
    "collapsed": false
   },
   "outputs": [],
   "source": [
    "for i in moneyLines_df['awayTm_moneyLine']:\n",
    "    if i < 0:\n",
    "        awayTm_impliedOdds.append(round(abs(i) / (abs(i) + 100.00), 3))\n",
    "    elif i > 0:\n",
    "        awayTm_impliedOdds.append(round(100.00 / (100.00 + i), 3))"
   ]
  },
  {
   "cell_type": "code",
   "execution_count": 280,
   "metadata": {
    "collapsed": true
   },
   "outputs": [],
   "source": [
    "moneyLines_df['homeTm_impliedOdds'] = homeTm_impliedOdds\n",
    "moneyLines_df['awayTm_impliedOdds'] = awayTm_impliedOdds"
   ]
  },
  {
   "cell_type": "code",
   "execution_count": 281,
   "metadata": {
    "collapsed": false
   },
   "outputs": [],
   "source": [
    "moneyLines_df = moneyLines_df[['home_team','homeTm_moneyLine','homeTm_impliedOdds',\n",
    "               'away_team','awayTm_moneyLine','awayTm_impliedOdds']]"
   ]
  },
  {
   "cell_type": "code",
   "execution_count": 282,
   "metadata": {
    "collapsed": false
   },
   "outputs": [],
   "source": [
    "moneyLines_df['home_team'] = moneyLines_df['home_team'].str.lower()\n",
    "moneyLines_df['away_team'] = moneyLines_df['away_team'].str.lower()"
   ]
  },
  {
   "cell_type": "code",
   "execution_count": 283,
   "metadata": {
    "collapsed": false
   },
   "outputs": [],
   "source": [
    "moneyLines_df = moneyLines_df.replace('chicago white sox', 'white sox')\n",
    "moneyLines_df = moneyLines_df.replace('oakland athletics', 'athletics')\n",
    "moneyLines_df = moneyLines_df.replace('los angeles angels', 'angels')\n",
    "moneyLines_df = moneyLines_df.replace('los angeles dodgers', 'dodgers')\n",
    "moneyLines_df = moneyLines_df.replace('seattle mariners', 'mariners')\n",
    "moneyLines_df = moneyLines_df.replace('tampa bay rays', 'rays')\n",
    "moneyLines_df = moneyLines_df.replace('atlanta braves', 'braves')\n",
    "moneyLines_df = moneyLines_df.replace('boston red sox', 'red sox')\n",
    "moneyLines_df = moneyLines_df.replace('baltimore orioles', 'orioles')\n",
    "moneyLines_df = moneyLines_df.replace('houston astros', 'astros')\n",
    "moneyLines_df = moneyLines_df.replace('pittsburgh pirates', 'pirates')\n",
    "moneyLines_df = moneyLines_df.replace('texas rangers', 'rangers')\n",
    "moneyLines_df = moneyLines_df.replace('cleveland indians', 'indians')\n",
    "moneyLines_df = moneyLines_df.replace('san francisco giants', 'giants')\n",
    "moneyLines_df = moneyLines_df.replace('san diego padres', 'padres')\n",
    "moneyLines_df = moneyLines_df.replace('colorado rockies', 'rockies')\n",
    "moneyLines_df = moneyLines_df.replace('chicago cubs', 'cubs')\n",
    "moneyLines_df = moneyLines_df.replace('philadelphia phillies', 'phillies')\n",
    "moneyLines_df = moneyLines_df.replace('saint louis cardinals', 'cardinals')\n",
    "moneyLines_df = moneyLines_df.replace('minnesota twins', 'twins')\n",
    "moneyLines_df = moneyLines_df.replace('arizona diamondbacks', 'diamondbacks')\n",
    "moneyLines_df = moneyLines_df.replace('milwaukee brewers', 'brewers')\n",
    "moneyLines_df = moneyLines_df.replace('cincinnati reds', 'reds')\n",
    "moneyLines_df = moneyLines_df.replace('kansas city royals', 'royals')\n",
    "moneyLines_df = moneyLines_df.replace('toronto blue jays', 'blue jays')\n",
    "moneyLines_df = moneyLines_df.replace('new york yankees', 'yankees')\n",
    "moneyLines_df = moneyLines_df.replace('new york mets', 'mets')\n",
    "moneyLines_df = moneyLines_df.replace('detroit tigers', 'tigers')\n",
    "moneyLines_df = moneyLines_df.replace('miami marlins', 'marlins')\n",
    "moneyLines_df = moneyLines_df.replace('washington nationals', 'nationals')"
   ]
  },
  {
   "cell_type": "code",
   "execution_count": 284,
   "metadata": {
    "collapsed": false
   },
   "outputs": [],
   "source": [
    "daily_final = moneyLines_df.merge(daily_output, left_on = 'home_team', right_on = 'Tm')\n",
    "daily_final = daily_final.drop(['Tm'], 1)\n",
    "daily_final.rename(columns={'proj_win_%': 'homeTm_proj_win_%','Lg':'homeLg', 'hitter': 'homeHitters'}, inplace=True)"
   ]
  },
  {
   "cell_type": "code",
   "execution_count": 285,
   "metadata": {
    "collapsed": false
   },
   "outputs": [],
   "source": [
    "daily_final = daily_final.merge(daily_output, left_on = 'away_team', right_on = 'Tm')\n",
    "daily_final = daily_final.drop(['Tm'], 1)\n",
    "daily_final.rename(columns={'proj_win_%': 'awayTm_proj_win_%','Lg':'awayLg', 'hitter': 'awayHitters'}, inplace=True)"
   ]
  },
  {
   "cell_type": "code",
   "execution_count": 286,
   "metadata": {
    "collapsed": false
   },
   "outputs": [],
   "source": [
    "daily_final = daily_final[['home_team','homeLg','homeHitters','homeTm_moneyLine','homeTm_impliedOdds','homeTm_proj_win_%'\n",
    "                          ,'away_team','awayLg','awayHitters','awayTm_moneyLine','awayTm_impliedOdds','awayTm_proj_win_%']]"
   ]
  },
  {
   "cell_type": "code",
   "execution_count": 287,
   "metadata": {
    "collapsed": false
   },
   "outputs": [],
   "source": [
    "daily_final['homeTm_day_win_prob'] = daily_final['homeTm_proj_win_%'] * (1 - daily_final['awayTm_proj_win_%'])\n",
    "daily_final['awayTm_day_win_prob'] = daily_final['awayTm_proj_win_%'] * (1 - daily_final['homeTm_proj_win_%'])"
   ]
  },
  {
   "cell_type": "code",
   "execution_count": 288,
   "metadata": {
    "collapsed": false
   },
   "outputs": [],
   "source": [
    "daily_final['homeTm_day_win_%'] = ((daily_final['homeTm_day_win_prob'] / (daily_final['homeTm_day_win_prob'] \n",
    "                                                                       + daily_final['awayTm_day_win_prob'])) *1.08).round(3)"
   ]
  },
  {
   "cell_type": "code",
   "execution_count": 289,
   "metadata": {
    "collapsed": true
   },
   "outputs": [],
   "source": [
    "daily_final['awayTm_day_win_%'] = (1 - daily_final['homeTm_day_win_%']).round(3)"
   ]
  },
  {
   "cell_type": "code",
   "execution_count": 290,
   "metadata": {
    "collapsed": true
   },
   "outputs": [],
   "source": [
    "daily_final['homeTm_Edge'] = daily_final['homeTm_day_win_%'] - daily_final['homeTm_impliedOdds']\n",
    "daily_final['awayTm_Edge'] = daily_final['awayTm_day_win_%'] - daily_final['awayTm_impliedOdds']"
   ]
  },
  {
   "cell_type": "code",
   "execution_count": 291,
   "metadata": {
    "collapsed": false
   },
   "outputs": [],
   "source": [
    "daily_final = daily_final.drop(['homeTm_day_win_prob'], 1)"
   ]
  },
  {
   "cell_type": "code",
   "execution_count": 292,
   "metadata": {
    "collapsed": false
   },
   "outputs": [],
   "source": [
    "daily_final = daily_final[['home_team','homeLg','homeHitters','homeTm_moneyLine','homeTm_impliedOdds','homeTm_day_win_%','homeTm_Edge'\n",
    "                          ,'away_team','awayLg','awayHitters','awayTm_moneyLine','awayTm_impliedOdds','awayTm_day_win_%','awayTm_Edge']]"
   ]
  },
  {
   "cell_type": "code",
   "execution_count": 293,
   "metadata": {
    "collapsed": true
   },
   "outputs": [],
   "source": [
    "def bet_amount(edge):\n",
    "    total = 1000\n",
    "    if edge > .15:\n",
    "        return total * .03\n",
    "    elif edge > .13 and edge <= .15:\n",
    "        return total * .025\n",
    "    elif edge > .11 and edge <= .13:\n",
    "        return total * .02\n",
    "    elif edge > .09 and edge <= .11:\n",
    "        return total * .015\n",
    "    elif edge > .06 and edge <= .09:\n",
    "        return total * .01\n",
    "    elif edge > .03 and edge <= .06:\n",
    "        return total * .005\n",
    "    elif edge > 0 and edge <= .03:\n",
    "        return total * .002\n",
    "    else:\n",
    "        return 'No Bet'"
   ]
  },
  {
   "cell_type": "code",
   "execution_count": 294,
   "metadata": {
    "collapsed": false
   },
   "outputs": [],
   "source": [
    "daily_final['homeTm_bet'] = daily_final.loc[:,'homeTm_Edge'].apply(bet_amount)\n",
    "daily_final['awayTm_bet'] = daily_final.loc[:,'awayTm_Edge'].apply(bet_amount)"
   ]
  },
  {
   "cell_type": "code",
   "execution_count": 295,
   "metadata": {
    "collapsed": false
   },
   "outputs": [
    {
     "data": {
      "text/html": [
       "<div>\n",
       "<table border=\"1\" class=\"dataframe\">\n",
       "  <thead>\n",
       "    <tr style=\"text-align: right;\">\n",
       "      <th></th>\n",
       "      <th>home_team</th>\n",
       "      <th>homeHitters</th>\n",
       "      <th>homeTm_Edge</th>\n",
       "      <th>homeTm_bet</th>\n",
       "      <th>away_team</th>\n",
       "      <th>awayHitters</th>\n",
       "      <th>awayTm_Edge</th>\n",
       "      <th>awayTm_bet</th>\n",
       "    </tr>\n",
       "  </thead>\n",
       "  <tbody>\n",
       "    <tr>\n",
       "      <th>0</th>\n",
       "      <td>rockies</td>\n",
       "      <td>8</td>\n",
       "      <td>0.053</td>\n",
       "      <td>5</td>\n",
       "      <td>padres</td>\n",
       "      <td>8</td>\n",
       "      <td>-0.079</td>\n",
       "      <td>No Bet</td>\n",
       "    </tr>\n",
       "    <tr>\n",
       "      <th>1</th>\n",
       "      <td>pirates</td>\n",
       "      <td>8</td>\n",
       "      <td>0.062</td>\n",
       "      <td>10</td>\n",
       "      <td>reds</td>\n",
       "      <td>8</td>\n",
       "      <td>-0.087</td>\n",
       "      <td>No Bet</td>\n",
       "    </tr>\n",
       "    <tr>\n",
       "      <th>2</th>\n",
       "      <td>phillies</td>\n",
       "      <td>8</td>\n",
       "      <td>-0.101</td>\n",
       "      <td>No Bet</td>\n",
       "      <td>mets</td>\n",
       "      <td>8</td>\n",
       "      <td>0.078</td>\n",
       "      <td>10</td>\n",
       "    </tr>\n",
       "    <tr>\n",
       "      <th>3</th>\n",
       "      <td>nationals</td>\n",
       "      <td>8</td>\n",
       "      <td>-0.141</td>\n",
       "      <td>No Bet</td>\n",
       "      <td>cardinals</td>\n",
       "      <td>8</td>\n",
       "      <td>0.100</td>\n",
       "      <td>15</td>\n",
       "    </tr>\n",
       "    <tr>\n",
       "      <th>4</th>\n",
       "      <td>marlins</td>\n",
       "      <td>7</td>\n",
       "      <td>-0.045</td>\n",
       "      <td>No Bet</td>\n",
       "      <td>braves</td>\n",
       "      <td>8</td>\n",
       "      <td>0.021</td>\n",
       "      <td>2</td>\n",
       "    </tr>\n",
       "    <tr>\n",
       "      <th>5</th>\n",
       "      <td>giants</td>\n",
       "      <td>7</td>\n",
       "      <td>0.036</td>\n",
       "      <td>5</td>\n",
       "      <td>diamondbacks</td>\n",
       "      <td>8</td>\n",
       "      <td>-0.059</td>\n",
       "      <td>No Bet</td>\n",
       "    </tr>\n",
       "    <tr>\n",
       "      <th>6</th>\n",
       "      <td>indians</td>\n",
       "      <td>9</td>\n",
       "      <td>0.047</td>\n",
       "      <td>5</td>\n",
       "      <td>white sox</td>\n",
       "      <td>9</td>\n",
       "      <td>-0.086</td>\n",
       "      <td>No Bet</td>\n",
       "    </tr>\n",
       "    <tr>\n",
       "      <th>7</th>\n",
       "      <td>red sox</td>\n",
       "      <td>9</td>\n",
       "      <td>-0.014</td>\n",
       "      <td>No Bet</td>\n",
       "      <td>orioles</td>\n",
       "      <td>8</td>\n",
       "      <td>-0.010</td>\n",
       "      <td>No Bet</td>\n",
       "    </tr>\n",
       "    <tr>\n",
       "      <th>8</th>\n",
       "      <td>angels</td>\n",
       "      <td>9</td>\n",
       "      <td>-0.053</td>\n",
       "      <td>No Bet</td>\n",
       "      <td>rangers</td>\n",
       "      <td>9</td>\n",
       "      <td>0.029</td>\n",
       "      <td>2</td>\n",
       "    </tr>\n",
       "    <tr>\n",
       "      <th>9</th>\n",
       "      <td>mariners</td>\n",
       "      <td>9</td>\n",
       "      <td>0.028</td>\n",
       "      <td>2</td>\n",
       "      <td>astros</td>\n",
       "      <td>9</td>\n",
       "      <td>-0.049</td>\n",
       "      <td>No Bet</td>\n",
       "    </tr>\n",
       "    <tr>\n",
       "      <th>10</th>\n",
       "      <td>blue jays</td>\n",
       "      <td>9</td>\n",
       "      <td>0.029</td>\n",
       "      <td>2</td>\n",
       "      <td>brewers</td>\n",
       "      <td>9</td>\n",
       "      <td>-0.055</td>\n",
       "      <td>No Bet</td>\n",
       "    </tr>\n",
       "  </tbody>\n",
       "</table>\n",
       "</div>"
      ],
      "text/plain": [
       "    home_team  homeHitters  homeTm_Edge homeTm_bet     away_team  awayHitters  \\\n",
       "0     rockies            8        0.053          5        padres            8   \n",
       "1     pirates            8        0.062         10          reds            8   \n",
       "2    phillies            8       -0.101     No Bet          mets            8   \n",
       "3   nationals            8       -0.141     No Bet     cardinals            8   \n",
       "4     marlins            7       -0.045     No Bet        braves            8   \n",
       "5      giants            7        0.036          5  diamondbacks            8   \n",
       "6     indians            9        0.047          5     white sox            9   \n",
       "7     red sox            9       -0.014     No Bet       orioles            8   \n",
       "8      angels            9       -0.053     No Bet       rangers            9   \n",
       "9    mariners            9        0.028          2        astros            9   \n",
       "10  blue jays            9        0.029          2       brewers            9   \n",
       "\n",
       "    awayTm_Edge awayTm_bet  \n",
       "0        -0.079     No Bet  \n",
       "1        -0.087     No Bet  \n",
       "2         0.078         10  \n",
       "3         0.100         15  \n",
       "4         0.021          2  \n",
       "5        -0.059     No Bet  \n",
       "6        -0.086     No Bet  \n",
       "7        -0.010     No Bet  \n",
       "8         0.029          2  \n",
       "9        -0.049     No Bet  \n",
       "10       -0.055     No Bet  "
      ]
     },
     "execution_count": 295,
     "metadata": {},
     "output_type": "execute_result"
    }
   ],
   "source": [
    "daily_final[['home_team', 'homeHitters','homeTm_Edge', 'homeTm_bet',\n",
    "            'away_team','awayHitters', 'awayTm_Edge', 'awayTm_bet']]"
   ]
  },
  {
   "cell_type": "code",
   "execution_count": null,
   "metadata": {
    "collapsed": true
   },
   "outputs": [],
   "source": []
  }
 ],
 "metadata": {
  "kernelspec": {
   "display_name": "Python 2",
   "language": "python",
   "name": "python2"
  },
  "language_info": {
   "codemirror_mode": {
    "name": "ipython",
    "version": 2
   },
   "file_extension": ".py",
   "mimetype": "text/x-python",
   "name": "python",
   "nbconvert_exporter": "python",
   "pygments_lexer": "ipython2",
   "version": "2.7.11"
  }
 },
 "nbformat": 4,
 "nbformat_minor": 0
}
