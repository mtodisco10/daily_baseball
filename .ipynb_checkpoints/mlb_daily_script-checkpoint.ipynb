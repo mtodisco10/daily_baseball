{
 "cells": [
  {
   "cell_type": "code",
   "execution_count": 1,
   "metadata": {
    "collapsed": true
   },
   "outputs": [],
   "source": [
    "from bs4 import BeautifulSoup\n",
    "import requests\n",
    "import pandas as pd"
   ]
  },
  {
   "cell_type": "code",
   "execution_count": 2,
   "metadata": {
    "collapsed": false
   },
   "outputs": [],
   "source": [
    "Hdc_urls = {'angels': 'http://www.fangraphs.com/projections.aspx?pos=all&stats=bat&type=fangraphsdc&team=1&lg=all&players=',\n",
    "        'astros': 'http://www.fangraphs.com/projections.aspx?pos=all&stats=bat&type=fangraphsdc&team=21&lg=all&players=',\n",
    "        'athletics': 'http://www.fangraphs.com/projections.aspx?pos=all&stats=bat&type=fangraphsdc&team=10&lg=all&players=',\n",
    "        'blue jays': 'http://www.fangraphs.com/projections.aspx?pos=all&stats=bat&type=fangraphsdc&team=14&lg=all&players=',\n",
    "        'braves': 'http://www.fangraphs.com/projections.aspx?pos=all&stats=bat&type=fangraphsdc&team=16&lg=all&players=',\n",
    "        'brewers': 'http://www.fangraphs.com/projections.aspx?pos=all&stats=bat&type=fangraphsdc&team=23&lg=all&players=',\n",
    "        'cardinals': 'http://www.fangraphs.com/projections.aspx?pos=all&stats=bat&type=fangraphsdc&team=28&lg=all&players=',\n",
    "        'cubs': 'http://www.fangraphs.com/projections.aspx?pos=all&stats=bat&type=fangraphsdc&team=17&lg=all&players=',\n",
    "        'diamondbacks': 'http://www.fangraphs.com/projections.aspx?pos=all&stats=bat&type=fangraphsdc&team=15&lg=all&players=',\n",
    "        'dodgers': 'http://www.fangraphs.com/projections.aspx?pos=all&stats=bat&type=fangraphsdc&team=22&lg=all&players=',\n",
    "        'giants': 'http://www.fangraphs.com/projections.aspx?pos=all&stats=bat&type=fangraphsdc&team=30&lg=all&players=',\n",
    "        'indians': 'http://www.fangraphs.com/projections.aspx?pos=all&stats=bat&type=fangraphsdc&team=5&lg=all&players=',\n",
    "        'mariners': 'http://www.fangraphs.com/projections.aspx?pos=all&stats=bat&type=fangraphsdc&team=11&lg=all&players=',\n",
    "        'marlins': 'http://www.fangraphs.com/projections.aspx?pos=all&stats=bat&type=fangraphsdc&team=20&lg=all&players=',\n",
    "        'mets': 'http://www.fangraphs.com/projections.aspx?pos=all&stats=bat&type=fangraphsdc&team=25&lg=all&players=',\n",
    "        'nationals': 'http://www.fangraphs.com/projections.aspx?pos=all&stats=bat&type=fangraphsdc&team=24&lg=all&players=',\n",
    "        'orioles': 'http://www.fangraphs.com/projections.aspx?pos=all&stats=bat&type=fangraphsdc&team=2&lg=all&players=',\n",
    "        'padres': 'http://www.fangraphs.com/projections.aspx?pos=all&stats=bat&type=fangraphsdc&team=29&lg=all&players=',\n",
    "        'phillies': 'http://www.fangraphs.com/projections.aspx?pos=all&stats=bat&type=fangraphsdc&team=26&lg=all&players=',\n",
    "        'pirates': 'http://www.fangraphs.com/projections.aspx?pos=all&stats=bat&type=fangraphsdc&team=27&lg=all&players=',\n",
    "        'rangers': 'http://www.fangraphs.com/projections.aspx?pos=all&stats=bat&type=fangraphsdc&team=13&lg=all&players=',\n",
    "        'rays': 'http://www.fangraphs.com/projections.aspx?pos=all&stats=bat&type=fangraphsdc&team=12&lg=all&players=',\n",
    "        'red sox': 'http://www.fangraphs.com/projections.aspx?pos=all&stats=bat&type=fangraphsdc&team=3&lg=all&players=', \n",
    "        'reds': 'http://www.fangraphs.com/projections.aspx?pos=all&stats=bat&type=fangraphsdc&team=18&lg=all&players=',\n",
    "        'rockies': 'http://www.fangraphs.com/projections.aspx?pos=all&stats=bat&type=fangraphsdc&team=19&lg=all&players=',\n",
    "        'royals': 'http://www.fangraphs.com/projections.aspx?pos=all&stats=bat&type=fangraphsdc&team=7&lg=all&players=',\n",
    "        'tigers': 'http://www.fangraphs.com/projections.aspx?pos=all&stats=bat&type=fangraphsdc&team=6&lg=all&players=',\n",
    "        'twins': 'http://www.fangraphs.com/projections.aspx?pos=all&stats=bat&type=fangraphsdc&team=8&lg=all&players=',\n",
    "        'white sox': 'http://www.fangraphs.com/projections.aspx?pos=all&stats=bat&type=fangraphsdc&team=4&lg=all&players=0',\n",
    "        'yankees': 'http://www.fangraphs.com/projections.aspx?pos=all&stats=bat&type=fangraphsdc&team=9&lg=all&players='\n",
    "       }"
   ]
  },
  {
   "cell_type": "code",
   "execution_count": 3,
   "metadata": {
    "collapsed": true
   },
   "outputs": [],
   "source": [
    "H2016_urls = {'angels': 'http://www.fangraphs.com/leaders.aspx?pos=all&stats=bat&lg=all&qual=0&type=8&season=2016&month=0&season1=2016&ind=0&team=1&rost=0&age=0&filter=&players=0',\n",
    "        'astros': 'http://www.fangraphs.com/leaders.aspx?pos=all&stats=bat&lg=all&qual=0&type=8&season=2016&month=0&season1=2016&ind=0&team=21&rost=0&age=0&filter=&players=0',\n",
    "        'athletics': 'http://www.fangraphs.com/leaders.aspx?pos=all&stats=bat&lg=all&qual=0&type=8&season=2016&month=0&season1=2016&ind=0&team=10&rost=0&age=0&filter=&players=0',\n",
    "        'blue jays': 'http://www.fangraphs.com/leaders.aspx?pos=all&stats=bat&lg=all&qual=0&type=8&season=2016&month=0&season1=2016&ind=0&team=14&rost=0&age=0&filter=&players=0',\n",
    "        'braves': 'http://www.fangraphs.com/leaders.aspx?pos=all&stats=bat&lg=all&qual=0&type=8&season=2016&month=0&season1=2016&ind=0&team=16&rost=0&age=0&filter=&players=0',\n",
    "        'brewers': 'http://www.fangraphs.com/leaders.aspx?pos=all&stats=bat&lg=all&qual=0&type=8&season=2016&month=0&season1=2016&ind=0&team=23&rost=0&age=0&filter=&players=0',\n",
    "        'cardinals': 'http://www.fangraphs.com/leaders.aspx?pos=all&stats=bat&lg=all&qual=0&type=8&season=2016&month=0&season1=2016&ind=0&team=28&rost=0&age=0&filter=&players=0',\n",
    "        'cubs': 'http://www.fangraphs.com/leaders.aspx?pos=all&stats=bat&lg=all&qual=0&type=8&season=2016&month=0&season1=2016&ind=0&team=17&rost=0&age=0&filter=&players=0',\n",
    "        'diamondbacks': 'http://www.fangraphs.com/leaders.aspx?pos=all&stats=bat&lg=all&qual=0&type=8&season=2016&month=0&season1=2016&ind=0&team=15&rost=0&age=0&filter=&players=0',\n",
    "        'dodgers': 'http://www.fangraphs.com/leaders.aspx?pos=all&stats=bat&lg=all&qual=0&type=8&season=2016&month=0&season1=2016&ind=0&team=22&rost=0&age=0&filter=&players=0',\n",
    "        'giants': 'http://www.fangraphs.com/leaders.aspx?pos=all&stats=bat&lg=all&qual=0&type=8&season=2016&month=0&season1=2016&ind=0&team=30&rost=0&age=0&filter=&players=0',\n",
    "        'indians': 'http://www.fangraphs.com/leaders.aspx?pos=all&stats=bat&lg=all&qual=0&type=8&season=2016&month=0&season1=2016&ind=0&team=5&rost=0&age=0&filter=&players=0',\n",
    "        'mariners': 'http://www.fangraphs.com/leaders.aspx?pos=all&stats=bat&lg=all&qual=0&type=8&season=2016&month=0&season1=2016&ind=0&team=11&rost=0&age=0&filter=&players=0',\n",
    "        'marlins': 'http://www.fangraphs.com/leaders.aspx?pos=all&stats=bat&lg=all&qual=0&type=8&season=2016&month=0&season1=2016&ind=0&team=20&rost=0&age=0&filter=&players=0',\n",
    "        'mets': 'http://www.fangraphs.com/leaders.aspx?pos=all&stats=bat&lg=all&qual=0&type=8&season=2016&month=0&season1=2016&ind=0&team=25&rost=0&age=0&filter=&players=0',\n",
    "        'nationals': 'http://www.fangraphs.com/leaders.aspx?pos=all&stats=bat&lg=all&qual=0&type=8&season=2016&month=0&season1=2016&ind=0&team=24&rost=0&age=0&filter=&players=0',\n",
    "        'orioles': 'http://www.fangraphs.com/leaders.aspx?pos=all&stats=bat&lg=all&qual=0&type=8&season=2016&month=0&season1=2016&ind=0&team=2&rost=0&age=0&filter=&players=0',\n",
    "        'padres': 'http://www.fangraphs.com/leaders.aspx?pos=all&stats=bat&lg=all&qual=0&type=8&season=2016&month=0&season1=2016&ind=0&team=29&rost=0&age=0&filter=&players=0',\n",
    "        'phillies': 'http://www.fangraphs.com/leaders.aspx?pos=all&stats=bat&lg=all&qual=0&type=8&season=2016&month=0&season1=2016&ind=0&team=26&rost=0&age=0&filter=&players=0',\n",
    "        'pirates': 'http://www.fangraphs.com/leaders.aspx?pos=all&stats=bat&lg=all&qual=0&type=8&season=2016&month=0&season1=2016&ind=0&team=27&rost=0&age=0&filter=&players=0',\n",
    "        'rangers': 'http://www.fangraphs.com/leaders.aspx?pos=all&stats=bat&lg=all&qual=0&type=8&season=2016&month=0&season1=2016&ind=0&team=13&rost=0&age=0&filter=&players=0',\n",
    "        'rays': 'http://www.fangraphs.com/leaders.aspx?pos=all&stats=bat&lg=all&qual=0&type=8&season=2016&month=0&season1=2016&ind=0&team=12&rost=0&age=0&filter=&players=0',\n",
    "        'red sox': 'http://www.fangraphs.com/leaders.aspx?pos=all&stats=bat&lg=all&qual=0&type=8&season=2016&month=0&season1=2016&ind=0&team=3&rost=0&age=0&filter=&players=0', \n",
    "        'reds': 'http://www.fangraphs.com/leaders.aspx?pos=all&stats=bat&lg=all&qual=0&type=8&season=2016&month=0&season1=2016&ind=0&team=18&rost=0&age=0&filter=&players=0',\n",
    "        'rockies': 'http://www.fangraphs.com/leaders.aspx?pos=all&stats=bat&lg=all&qual=0&type=8&season=2016&month=0&season1=2016&ind=0&team=19&rost=0&age=0&filter=&players=0',\n",
    "        'royals': 'http://www.fangraphs.com/leaders.aspx?pos=all&stats=bat&lg=all&qual=0&type=8&season=2016&month=0&season1=2016&ind=0&team=7&rost=0&age=0&filter=&players=0',\n",
    "        'tigers': 'http://www.fangraphs.com/leaders.aspx?pos=all&stats=bat&lg=all&qual=0&type=8&season=2016&month=0&season1=2016&ind=0&team=6&rost=0&age=0&filter=&players=0',\n",
    "        'twins': 'http://www.fangraphs.com/leaders.aspx?pos=all&stats=bat&lg=all&qual=0&type=8&season=2016&month=0&season1=2016&ind=0&team=8&rost=0&age=0&filter=&players=0',\n",
    "        'white sox': 'http://www.fangraphs.com/leaders.aspx?pos=all&stats=bat&lg=all&qual=0&type=8&season=2016&month=0&season1=2016&ind=0&team=4&rost=0&age=0&filter=&players=0',\n",
    "        'yankees': 'http://www.fangraphs.com/leaders.aspx?pos=all&stats=bat&lg=all&qual=0&type=8&season=2016&month=0&season1=2016&ind=0&team=9&rost=0&age=0&filter=&players=0'\n",
    "       }"
   ]
  },
  {
   "cell_type": "code",
   "execution_count": 4,
   "metadata": {
    "collapsed": true
   },
   "outputs": [],
   "source": [
    "P2016_urls = {'angels': 'http://www.fangraphs.com/leaders.aspx?pos=all&stats=pit&lg=all&qual=0&type=8&season=2016&month=0&season1=2016&ind=0&team=1&rost=0&age=0&filter=&players=0',\n",
    "        'astros': 'http://www.fangraphs.com/leaders.aspx?pos=all&stats=pit&lg=all&qual=0&type=8&season=2016&month=0&season1=2016&ind=0&team=21&rost=0&age=0&filter=&players=0',\n",
    "        'athletics': 'http://www.fangraphs.com/leaders.aspx?pos=all&stats=pit&lg=all&qual=0&type=8&season=2016&month=0&season1=2016&ind=0&team=10&rost=0&age=0&filter=&players=0',\n",
    "        'blue jays': 'http://www.fangraphs.com/leaders.aspx?pos=all&stats=pit&lg=all&qual=0&type=8&season=2016&month=0&season1=2016&ind=0&team=14&rost=0&age=0&filter=&players=0',\n",
    "        'braves': 'http://www.fangraphs.com/leaders.aspx?pos=all&stats=pit&lg=all&qual=0&type=8&season=2016&month=0&season1=2016&ind=0&team=16&rost=0&age=0&filter=&players=0',\n",
    "        'brewers': 'http://www.fangraphs.com/leaders.aspx?pos=all&stats=pit&lg=all&qual=0&type=8&season=2016&month=0&season1=2016&ind=0&team=23&rost=0&age=0&filter=&players=0',\n",
    "        'cardinals': 'http://www.fangraphs.com/leaders.aspx?pos=all&stats=pit&lg=all&qual=0&type=8&season=2016&month=0&season1=2016&ind=0&team=28&rost=0&age=0&filter=&players=0',\n",
    "        'cubs': 'http://www.fangraphs.com/leaders.aspx?pos=all&stats=pit&lg=all&qual=0&type=8&season=2016&month=0&season1=2016&ind=0&team=17&rost=0&age=0&filter=&players=0',\n",
    "        'diamondbacks': 'http://www.fangraphs.com/leaders.aspx?pos=all&stats=pit&lg=all&qual=0&type=8&season=2016&month=0&season1=2016&ind=0&team=15&rost=0&age=0&filter=&players=0',\n",
    "        'dodgers': 'http://www.fangraphs.com/leaders.aspx?pos=all&stats=pit&lg=all&qual=0&type=8&season=2016&month=0&season1=2016&ind=0&team=22&rost=0&age=0&filter=&players=0',\n",
    "        'giants': 'http://www.fangraphs.com/leaders.aspx?pos=all&stats=pit&lg=all&qual=0&type=8&season=2016&month=0&season1=2016&ind=0&team=30&rost=0&age=0&filter=&players=0',\n",
    "        'indians': 'http://www.fangraphs.com/leaders.aspx?pos=all&stats=pit&lg=all&qual=0&type=8&season=2016&month=0&season1=2016&ind=0&team=5&rost=0&age=0&filter=&players=0',\n",
    "        'mariners': 'http://www.fangraphs.com/leaders.aspx?pos=all&stats=pit&lg=all&qual=0&type=8&season=2016&month=0&season1=2016&ind=0&team=11&rost=0&age=0&filter=&players=0',\n",
    "        'marlins': 'http://www.fangraphs.com/leaders.aspx?pos=all&stats=pit&lg=all&qual=0&type=8&season=2016&month=0&season1=2016&ind=0&team=20&rost=0&age=0&filter=&players=0',\n",
    "        'mets': 'http://www.fangraphs.com/leaders.aspx?pos=all&stats=pit&lg=all&qual=0&type=8&season=2016&month=0&season1=2016&ind=0&team=25&rost=0&age=0&filter=&players=0',\n",
    "        'nationals': 'http://www.fangraphs.com/leaders.aspx?pos=all&stats=pit&lg=all&qual=0&type=8&season=2016&month=0&season1=2016&ind=0&team=24&rost=0&age=0&filter=&players=0',\n",
    "        'orioles': 'http://www.fangraphs.com/leaders.aspx?pos=all&stats=pit&lg=all&qual=0&type=8&season=2016&month=0&season1=2016&ind=0&team=2&rost=0&age=0&filter=&players=0',\n",
    "        'padres': 'http://www.fangraphs.com/leaders.aspx?pos=all&stats=pit&lg=all&qual=0&type=8&season=2016&month=0&season1=2016&ind=0&team=29&rost=0&age=0&filter=&players=0',\n",
    "        'phillies': 'http://www.fangraphs.com/leaders.aspx?pos=all&stats=pit&lg=all&qual=0&type=8&season=2016&month=0&season1=2016&ind=0&team=26&rost=0&age=0&filter=&players=0',\n",
    "        'pirates': 'http://www.fangraphs.com/leaders.aspx?pos=all&stats=pit&lg=all&qual=0&type=8&season=2016&month=0&season1=2016&ind=0&team=27&rost=0&age=0&filter=&players=0',\n",
    "        'rangers': 'http://www.fangraphs.com/leaders.aspx?pos=all&stats=pit&lg=all&qual=0&type=8&season=2016&month=0&season1=2016&ind=0&team=13&rost=0&age=0&filter=&players=0',\n",
    "        'rays': 'http://www.fangraphs.com/leaders.aspx?pos=all&stats=pit&lg=all&qual=0&type=8&season=2016&month=0&season1=2016&ind=0&team=12&rost=0&age=0&filter=&players=0',\n",
    "        'red sox': 'http://www.fangraphs.com/leaders.aspx?pos=all&stats=pit&lg=all&qual=0&type=8&season=2016&month=0&season1=2016&ind=0&team=3&rost=0&age=0&filter=&players=0', \n",
    "        'reds': 'http://www.fangraphs.com/leaders.aspx?pos=all&stats=pit&lg=all&qual=0&type=8&season=2016&month=0&season1=2016&ind=0&team=18&rost=0&age=0&filter=&players=0',\n",
    "        'rockies': 'http://www.fangraphs.com/leaders.aspx?pos=all&stats=pit&lg=all&qual=0&type=8&season=2016&month=0&season1=2016&ind=0&team=19&rost=0&age=0&filter=&players=0',\n",
    "        'royals': 'http://www.fangraphs.com/leaders.aspx?pos=all&stats=pit&lg=all&qual=0&type=8&season=2016&month=0&season1=2016&ind=0&team=7&rost=0&age=0&filter=&players=0',\n",
    "        'tigers': 'http://www.fangraphs.com/leaders.aspx?pos=all&stats=pit&lg=all&qual=0&type=8&season=2016&month=0&season1=2016&ind=0&team=6&rost=0&age=0&filter=&players=0',\n",
    "        'twins': 'http://www.fangraphs.com/leaders.aspx?pos=all&stats=pit&lg=all&qual=0&type=8&season=2016&month=0&season1=2016&ind=0&team=8&rost=0&age=0&filter=&players=0',\n",
    "        'white sox': 'http://www.fangraphs.com/leaders.aspx?pos=all&stats=pit&lg=all&qual=0&type=8&season=2016&month=0&season1=2016&ind=0&team=4&rost=0&age=0&filter=&players=0',\n",
    "        'yankees': 'http://www.fangraphs.com/leaders.aspx?pos=all&stats=pit&lg=all&qual=0&type=8&season=2016&month=0&season1=2016&ind=0&team=9&rost=0&age=0&filter=&players=0'\n",
    "       }"
   ]
  },
  {
   "cell_type": "code",
   "execution_count": 5,
   "metadata": {
    "collapsed": true
   },
   "outputs": [],
   "source": [
    "Hdc_player_lst = []\n",
    "Hdc_team_lst = []\n",
    "Hdc_g_lst = []\n",
    "Hdc_pa_lst = []\n",
    "Hdc_war_lst = []"
   ]
  },
  {
   "cell_type": "code",
   "execution_count": 6,
   "metadata": {
    "collapsed": false
   },
   "outputs": [],
   "source": [
    "Pdc_player_lst = []\n",
    "Pdc_team_lst = []\n",
    "Pdc_gs_lst = []\n",
    "Pdc_ip_lst = []\n",
    "Pdc_war_lst = []"
   ]
  },
  {
   "cell_type": "code",
   "execution_count": 7,
   "metadata": {
    "collapsed": true
   },
   "outputs": [],
   "source": [
    "H2016_player_lst = []\n",
    "H2016_team_lst = []\n",
    "H2016_pa_lst = []\n",
    "H2016_war_lst = []"
   ]
  },
  {
   "cell_type": "code",
   "execution_count": 8,
   "metadata": {
    "collapsed": true
   },
   "outputs": [],
   "source": [
    "P2016_player_lst = []\n",
    "P2016_team_lst = []\n",
    "P2016_ip_lst = []\n",
    "P2016_war_lst = []"
   ]
  },
  {
   "cell_type": "code",
   "execution_count": null,
   "metadata": {
    "collapsed": false
   },
   "outputs": [],
   "source": [
    "#Depth Charts 2017 Hitter Projections\n",
    "\n",
    "for url in Hdc_urls.values():\n",
    "    text = BeautifulSoup(requests.get(url).text)\n",
    "    players = text.find_all('tr', {'class': ['rgRow', 'rgAltRow']})\n",
    "    for i in range(0, len(players)):\n",
    "        names = players[i].find_all('a')\n",
    "        teams = players[i].find_all('td')[2]\n",
    "        games = players[i].find_all('td')[3]\n",
    "        plates = players[i].find_all('td')[4]\n",
    "        wars = players[i].find_all('td')[24]\n",
    "        for n in names:\n",
    "            if n.string is not None:\n",
    "                Hdc_player_lst.append(n.string)\n",
    "        for t in teams:\n",
    "            if t.string is not None:\n",
    "                Hdc_team_lst.append(t.string)\n",
    "        for g in games:\n",
    "            if g.string is not None:\n",
    "                Hdc_g_lst.append(g.string)\n",
    "        for p in plates:\n",
    "            if p.string is not None:\n",
    "                Hdc_pa_lst.append(p.string) \n",
    "        for w in wars:\n",
    "            if w.string is not None:\n",
    "                Hdc_war_lst.append(w.string)"
   ]
  },
  {
   "cell_type": "code",
   "execution_count": null,
   "metadata": {
    "collapsed": false
   },
   "outputs": [],
   "source": [
    "#Depth Charts 2017 Pitcher Projections\n",
    "\n",
    "for i in range(1,31):\n",
    "    url = 'http://www.fangraphs.com/projections.aspx?pos=all&stats=pit&type=fangraphsdc&team=' + str(i) + '&lg=all&players=0'\n",
    "    text = BeautifulSoup(requests.get(url).text)\n",
    "    players = text.find_all('tr', {'class': ['rgRow', 'rgAltRow']})\n",
    "    for i in range(0, len(players)):\n",
    "        names = players[i].find_all('a')\n",
    "        teams = players[i].find_all('td')[2]\n",
    "        games_started = players[i].find_all('td')[8]\n",
    "        innings = players[i].find_all('td')[10]\n",
    "        wars = players[i].find_all('td')[20]\n",
    "        for n in names:\n",
    "            if n.string is not None:\n",
    "                Pdc_player_lst.append(n.string)\n",
    "        for t in teams:\n",
    "            if t.string is not None:\n",
    "                Pdc_team_lst.append(t.string)\n",
    "        for g in games_started:\n",
    "            if t.string is not None:\n",
    "                Pdc_gs_lst.append(g.string)        \n",
    "        for i in innings:\n",
    "            if i.string is not None:\n",
    "                Pdc_ip_lst.append(i.string)\n",
    "        for w in wars:\n",
    "            if w.string is not None:\n",
    "                Pdc_war_lst.append(w.string)"
   ]
  },
  {
   "cell_type": "code",
   "execution_count": null,
   "metadata": {
    "collapsed": true
   },
   "outputs": [],
   "source": [
    "#2016 Season Hitter Performance\n",
    "\n",
    "for k, v in H2016_urls.items():\n",
    "    text = BeautifulSoup(requests.get(v).text)\n",
    "    players = text.find_all('tr', {'class': ['rgRow', 'rgAltRow']})\n",
    "    for i in range(0, len(players)):\n",
    "        names = players[i].find_all('a')\n",
    "        plates = players[i].find_all('td')[3]\n",
    "        wars = players[i].find_all('td')[20]\n",
    "        [H2016_player_lst.append(n.string) for n in names]\n",
    "        H2016_team_lst.append(k)\n",
    "        [H2016_pa_lst.append(p.string) for p in plates]\n",
    "        [H2016_war_lst.append(w.string) for w in wars]"
   ]
  },
  {
   "cell_type": "code",
   "execution_count": null,
   "metadata": {
    "collapsed": true
   },
   "outputs": [],
   "source": [
    "#2016 Season Pitcher Performance\n",
    "\n",
    "for k, v in P2016_urls.items():\n",
    "    text = BeautifulSoup(requests.get(v).text)\n",
    "    players = text.find_all('tr', {'class': ['rgRow', 'rgAltRow']})\n",
    "    for i in range(0, len(players)):\n",
    "        names = players[i].find_all('a')\n",
    "        innings = players[i].find_all('td')[7]\n",
    "        wars = players[i].find_all('td')[18]\n",
    "        [P2016_player_lst.append(n.string) for n in names]\n",
    "        P2016_team_lst.append(k)\n",
    "        [P2016_ip_lst.append(i.string) for i in innings]\n",
    "        [P2016_war_lst.append(w.string) for w in wars]"
   ]
  },
  {
   "cell_type": "code",
   "execution_count": null,
   "metadata": {
    "collapsed": false
   },
   "outputs": [],
   "source": [
    "h_depthcharts = pd.DataFrame([Hdc_player_lst, Hdc_team_lst, Hdc_g_lst, Hdc_pa_lst, Hdc_war_lst]).T\n",
    "h_depthcharts.columns = ['player', 'team','games', 'pa', 'war']\n",
    "h_depthcharts['2017_G'] = h_depthcharts['games'].astype(float)\n",
    "h_depthcharts['2017_PA'] = h_depthcharts['pa'].astype(float)\n",
    "h_depthcharts['2017_WAR_H'] = h_depthcharts['war'].astype(float)"
   ]
  },
  {
   "cell_type": "code",
   "execution_count": null,
   "metadata": {
    "collapsed": false
   },
   "outputs": [],
   "source": [
    "h_depthcharts.loc[(h_depthcharts.loc[:,'team'] == 'Dodgers') & (h_depthcharts.loc[:,'pa'] == '163'),'player'] = 'Enrique Hernandez'"
   ]
  },
  {
   "cell_type": "code",
   "execution_count": null,
   "metadata": {
    "collapsed": false
   },
   "outputs": [],
   "source": [
    "p_depthcharts = pd.DataFrame([Pdc_player_lst, Pdc_team_lst, Pdc_gs_lst, Pdc_ip_lst, Pdc_war_lst]).T\n",
    "p_depthcharts.columns = ['player', 'team', 'gs', 'ip', 'war']\n",
    "p_depthcharts['2017_GS'] = p_depthcharts['gs'].astype(float)\n",
    "p_depthcharts['2017_IP'] = p_depthcharts['ip'].astype(float)\n",
    "p_depthcharts['2017_WAR_P'] = p_depthcharts['war'].astype(float)"
   ]
  },
  {
   "cell_type": "code",
   "execution_count": null,
   "metadata": {
    "collapsed": true
   },
   "outputs": [],
   "source": [
    "h_2016 = pd.DataFrame([H2016_player_lst, H2016_team_lst, H2016_pa_lst, H2016_war_lst]).T\n",
    "h_2016.columns = ['player', 'team', 'pa', 'war']\n",
    "h_2016['pa'] = h_2016['pa'].astype(float)\n",
    "h_2016['war'] = h_2016['war'].astype(float)"
   ]
  },
  {
   "cell_type": "code",
   "execution_count": null,
   "metadata": {
    "collapsed": false
   },
   "outputs": [],
   "source": [
    "p_2016 = pd.DataFrame([P2016_player_lst, P2016_team_lst, P2016_ip_lst, P2016_war_lst]).T\n",
    "p_2016.columns = ['player', 'team', 'ip', 'war']\n",
    "p_2016['ip'] = p_2016['ip'].astype(float)\n",
    "p_2016['war'] = p_2016['war'].astype(float)"
   ]
  },
  {
   "cell_type": "code",
   "execution_count": null,
   "metadata": {
    "collapsed": false
   },
   "outputs": [],
   "source": [
    "writer = pd.ExcelWriter('mlb2017_master.xlsx')\n",
    "h_depthcharts.to_excel(writer, sheet_name = 'Depth Charts Hitters')\n",
    "p_depthcharts.to_excel(writer, sheet_name = 'Depth Charts Pitchers')\n",
    "h_2016.to_excel(writer, sheet_name = '2016 Season Hitters')\n",
    "p_2016.to_excel(writer, sheet_name = '2016 Season Pitchers')\n",
    "writer.save()"
   ]
  },
  {
   "cell_type": "code",
   "execution_count": null,
   "metadata": {
    "collapsed": false
   },
   "outputs": [],
   "source": [
    "winTotals2016 = pd.read_csv('2016_win_totals.csv')\n",
    "pitching_data_2016 = pd.read_csv('2016_pitching_data.csv')\n",
    "results2016 = winTotals2016.merge(pitching_data_2016, left_on='Tm', right_on='team')"
   ]
  },
  {
   "cell_type": "code",
   "execution_count": null,
   "metadata": {
    "collapsed": false
   },
   "outputs": [],
   "source": [
    "results2016 = results2016[['Tm','Lg','R','RA','clusterLuck_R','clusterLuck_RA','2016_PA','2016_WAR_H','total_ip',\n",
    "                      'starter_perc','2016_starter_war','2016_reliever_war']]"
   ]
  },
  {
   "cell_type": "code",
   "execution_count": null,
   "metadata": {
    "collapsed": false,
    "scrolled": false
   },
   "outputs": [],
   "source": [
    "results2016"
   ]
  },
  {
   "cell_type": "code",
   "execution_count": null,
   "metadata": {
    "collapsed": true
   },
   "outputs": [],
   "source": [
    "###### Daily Lineups\n",
    "lineup_url = 'http://www.baseballpress.com/lineups'\n",
    "lineup_text = BeautifulSoup(requests.get(lineup_url).text)\n",
    "team_data = lineup_text.find_all('div', {'class': ['team-data']})"
   ]
  },
  {
   "cell_type": "code",
   "execution_count": null,
   "metadata": {
    "collapsed": true
   },
   "outputs": [],
   "source": [
    "daily_pitchers = []\n",
    "for i in team_data:\n",
    "    starters = i.find_all('a', {'class': ['player-link']})\n",
    "    for i in starters:\n",
    "        if i.string == 'Lance McCullers Jr.':\n",
    "            daily_pitchers.append('Lance McCullers')\n",
    "        else:\n",
    "            daily_pitchers.append(i.string)"
   ]
  },
  {
   "cell_type": "code",
   "execution_count": null,
   "metadata": {
    "collapsed": true
   },
   "outputs": [],
   "source": [
    "daily_pitchers = pd.DataFrame(daily_pitchers, columns = ['pitcher'])\n",
    "daily_pitchers_war = daily_pitchers.merge(p_depthcharts, left_on = 'pitcher', right_on = 'player')\n",
    "daily_pitchers_war = daily_pitchers_war.drop(['player', 'gs', 'ip', 'war'], 1)"
   ]
  },
  {
   "cell_type": "code",
   "execution_count": null,
   "metadata": {
    "collapsed": true
   },
   "outputs": [],
   "source": [
    "team_lineup = lineup_text.find_all('div', {'class': ['team-lineup']})\n",
    "daily_hitters = []\n",
    "for i in team_lineup:\n",
    "    hitters = i.find_all('a', {'class': ['player-link']})\n",
    "    for i in hitters:\n",
    "        daily_hitters.append(i.string)\n",
    "\n",
    "daily_hitters = pd.DataFrame(daily_hitters, columns = ['hitter'])"
   ]
  },
  {
   "cell_type": "code",
   "execution_count": null,
   "metadata": {
    "collapsed": false
   },
   "outputs": [],
   "source": [
    "h_depthcharts[(h_depthcharts['player'] == 'Craig Gentry') & (h_depthcharts['pa'] == '280')] = 'Craig Gentry 2'"
   ]
  },
  {
   "cell_type": "code",
   "execution_count": null,
   "metadata": {
    "collapsed": true
   },
   "outputs": [],
   "source": [
    "daily_hitters[daily_hitters['hitter'] == 'Nicholas Castellanos'] = 'Nick Castellanos'\n",
    "daily_hitters[daily_hitters['hitter'] == 'Greg Bird'] = 'Gregory Bird'\n",
    "daily_hitters[daily_hitters['hitter'] == 'Albert Almora Jr.'] = 'Albert Almora'\n",
    "daily_hitters[daily_hitters['hitter'] == 'Norichika Aoki'] = 'Nori Aoki'"
   ]
  },
  {
   "cell_type": "code",
   "execution_count": null,
   "metadata": {
    "collapsed": true
   },
   "outputs": [],
   "source": [
    "daily_hitters_war = daily_hitters.merge(h_depthcharts, left_on = 'hitter', right_on = 'player')\n",
    "daily_hitters_war = daily_hitters_war.drop(['player', 'pa', 'war'], 1)\n",
    "daily_hitters_war['team'] = daily_hitters_war['team'].str.lower()"
   ]
  },
  {
   "cell_type": "code",
   "execution_count": null,
   "metadata": {
    "collapsed": true
   },
   "outputs": [],
   "source": [
    "#####Daily WAR Grouped by Team\n",
    "\n",
    "daily_tm_hitter_war = daily_hitters_war.groupby('team', as_index = False).sum()\n",
    "daily_tm_hitter_count = daily_hitters_war.groupby('team', as_index = False).count()\n",
    "daily_tm_hitter_count = daily_tm_hitter_count[['team','hitter']]\n",
    "daily_tm_pitcher_war = daily_pitchers_war.groupby('team', as_index = False).sum()\n",
    "daily_tm_pitcher_war = daily_tm_pitcher_war[['team','2017_IP','2017_WAR_P']]"
   ]
  },
  {
   "cell_type": "code",
   "execution_count": null,
   "metadata": {
    "collapsed": false
   },
   "outputs": [],
   "source": [
    "daily_tm_hitter_war = daily_tm_hitter_war.drop(['hitter','games'],1)"
   ]
  },
  {
   "cell_type": "code",
   "execution_count": null,
   "metadata": {
    "collapsed": false
   },
   "outputs": [],
   "source": [
    "daily_tm_hitter_war['team'] = daily_tm_hitter_war['team'].str.lower()\n",
    "daily_tm_hitter_count['team'] = daily_tm_hitter_count['team'].str.lower()\n",
    "daily_tm_pitcher_war['team'] = daily_tm_pitcher_war['team'].str.lower()"
   ]
  },
  {
   "cell_type": "code",
   "execution_count": null,
   "metadata": {
    "collapsed": false
   },
   "outputs": [],
   "source": [
    "#### Merging the Daily Lineup WARs with the 2016 Results\n",
    "\n",
    "daily_merge = results2016.merge(daily_tm_hitter_war, left_on='Tm', right_on='team')\n",
    "daily_merge = daily_merge.drop(['team'],1)\n",
    "daily_merge = daily_merge.merge(daily_tm_hitter_count, left_on='Tm', right_on='team')\n",
    "daily_merge = daily_merge.drop(['team'],1)\n",
    "daily_merge = daily_merge.merge(daily_tm_pitcher_war, left_on='Tm', right_on='team')\n",
    "daily_merge = daily_merge.drop(['team'],1)"
   ]
  },
  {
   "cell_type": "code",
   "execution_count": null,
   "metadata": {
    "collapsed": false
   },
   "outputs": [],
   "source": [
    "daily_merge = daily_merge[['Tm','Lg','R','RA','clusterLuck_R','clusterLuck_RA','2016_PA','2016_WAR_H','hitter',\n",
    "                          '2017_G','2017_PA','2017_WAR_H','total_ip','starter_perc','2016_starter_war',\n",
    "                          '2016_reliever_war','2017_IP','2017_WAR_P']]"
   ]
  },
  {
   "cell_type": "code",
   "execution_count": null,
   "metadata": {
    "collapsed": false
   },
   "outputs": [],
   "source": [
    "daily_merge['norm_war_h'] = daily_merge['2016_PA'] / daily_merge['2017_PA'] * daily_merge['2017_WAR_H']"
   ]
  },
  {
   "cell_type": "code",
   "execution_count": null,
   "metadata": {
    "collapsed": true
   },
   "outputs": [],
   "source": [
    "daily_merge['norm_war_sp'] = (daily_merge['total_ip'] * daily_merge['starter_perc'])  / daily_merge['2017_IP'] * daily_merge['2017_WAR_P']"
   ]
  },
  {
   "cell_type": "code",
   "execution_count": null,
   "metadata": {
    "collapsed": false
   },
   "outputs": [],
   "source": [
    "daily_merge['net_war_h'] = daily_merge['norm_war_h'] - daily_merge['2016_WAR_H']\n",
    "daily_merge['net_war_sp'] = daily_merge['norm_war_sp'] - daily_merge['2016_starter_war']"
   ]
  },
  {
   "cell_type": "code",
   "execution_count": null,
   "metadata": {
    "collapsed": false
   },
   "outputs": [],
   "source": [
    "daily_merge['adjusted_R'] = daily_merge['R'] - daily_merge['clusterLuck_R'] + (daily_merge['net_war_h'] * 10)\n",
    "daily_merge['adjusted_RA'] = daily_merge['RA'] + daily_merge['clusterLuck_RA'] - (daily_merge['net_war_sp'] * 10)"
   ]
  },
  {
   "cell_type": "code",
   "execution_count": null,
   "metadata": {
    "collapsed": false
   },
   "outputs": [],
   "source": [
    "daily_merge['proj_win_%'] = (daily_merge['adjusted_R'] ** 1.83) / (daily_merge['adjusted_R'] ** 1.83 + daily_merge['adjusted_RA'] ** 1.83)\n",
    "daily_merge['proj_win_%'] = daily_merge['proj_win_%'].round(3)"
   ]
  },
  {
   "cell_type": "code",
   "execution_count": null,
   "metadata": {
    "collapsed": false
   },
   "outputs": [],
   "source": [
    "daily_output = daily_merge[['Tm','Lg','hitter','proj_win_%']]"
   ]
  },
  {
   "cell_type": "code",
   "execution_count": null,
   "metadata": {
    "collapsed": false
   },
   "outputs": [],
   "source": [
    "#### Daily Bets\n",
    "dailyBets_url = 'https://www.betdsi.eu/live-lines/baseball/major-league-baseball'\n",
    "dailyBets_text = BeautifulSoup(requests.get(dailyBets_url).text)"
   ]
  },
  {
   "cell_type": "code",
   "execution_count": null,
   "metadata": {
    "collapsed": false
   },
   "outputs": [],
   "source": [
    "matchups = dailyBets_text.find_all('div', {'class': ['matchup']})"
   ]
  },
  {
   "cell_type": "code",
   "execution_count": null,
   "metadata": {
    "collapsed": true
   },
   "outputs": [],
   "source": [
    "homeTeam_lst = []\n",
    "homeTeam_moneyLine = []"
   ]
  },
  {
   "cell_type": "code",
   "execution_count": null,
   "metadata": {
    "collapsed": false
   },
   "outputs": [],
   "source": [
    "#Home Teams\n",
    "for i in matchups:\n",
    "    home_teams = i.find_all('div', {'class': 'oddsD hTeam'})\n",
    "    for h in home_teams:\n",
    "        home_team = h.find_all('div', {'class': ['team']})\n",
    "        line = h.find_all('div', {'class': ['money']})\n",
    "        for t in home_team:\n",
    "            v = t.find_all('span')\n",
    "            homeTeam_lst.append(v[0].string)\n",
    "        for l in line:\n",
    "            drill = l.find_all('span')\n",
    "            for i in drill:\n",
    "                if i.string != None and '%' not in i.string and i.string != '-':\n",
    "                    homeTeam_moneyLine.append(int(i.string))\n",
    "                elif i.string == '-':\n",
    "                    homeTeam_moneyLine.append('No Line')"
   ]
  },
  {
   "cell_type": "code",
   "execution_count": null,
   "metadata": {
    "collapsed": true
   },
   "outputs": [],
   "source": [
    "awayTeam_lst = []\n",
    "awayTeam_moneyLine = []"
   ]
  },
  {
   "cell_type": "code",
   "execution_count": null,
   "metadata": {
    "collapsed": false
   },
   "outputs": [],
   "source": [
    "#Away Teams\n",
    "for i in matchups:\n",
    "    away_teams = i.find_all('div', {'class': 'oddsD vTeam'})\n",
    "    for a in away_teams:\n",
    "        away_team = a.find_all('div', {'class': ['team']})\n",
    "        line = a.find_all('div', {'class': ['money']})\n",
    "        for t in away_team:\n",
    "            v = t.find_all('span')\n",
    "            awayTeam_lst.append(v[0].string)\n",
    "        for l in line:\n",
    "            drill = l.find_all('span')\n",
    "            for i in drill:\n",
    "                if i.string != None and '%' not in i.string and i.string != '-':\n",
    "                    awayTeam_moneyLine.append(int(i.string))\n",
    "                elif i.string == '-':\n",
    "                    awayTeam_moneyLine.append('No Line')"
   ]
  },
  {
   "cell_type": "code",
   "execution_count": null,
   "metadata": {
    "collapsed": false
   },
   "outputs": [],
   "source": [
    "moneyLines_df = pd.DataFrame(\n",
    "    {'home_team': homeTeam_lst,\n",
    "     'homeTm_moneyLine': homeTeam_moneyLine,\n",
    "     'away_team': awayTeam_lst,\n",
    "     'awayTm_moneyLine': awayTeam_moneyLine\n",
    "    })\n",
    "\n",
    "moneyLines_df = moneyLines_df[['home_team', 'homeTm_moneyLine', 'away_team', 'awayTm_moneyLine']]"
   ]
  },
  {
   "cell_type": "code",
   "execution_count": null,
   "metadata": {
    "collapsed": true
   },
   "outputs": [],
   "source": [
    "homeTm_impliedOdds = []\n",
    "awayTm_impliedOdds = []"
   ]
  },
  {
   "cell_type": "code",
   "execution_count": null,
   "metadata": {
    "collapsed": false
   },
   "outputs": [],
   "source": [
    "for i in moneyLines_df['homeTm_moneyLine']:\n",
    "    if i == 'No Line':\n",
    "        homeTm_impliedOdds.append('No Line')\n",
    "    elif i < 0:\n",
    "        homeTm_impliedOdds.append(round(abs(i) / (abs(i) + 100.00), 3))\n",
    "    elif i > 0:\n",
    "        homeTm_impliedOdds.append(round(100.00 / (100.00 + i), 3))"
   ]
  },
  {
   "cell_type": "code",
   "execution_count": null,
   "metadata": {
    "collapsed": false
   },
   "outputs": [],
   "source": [
    "for i in moneyLines_df['awayTm_moneyLine']:\n",
    "    if i == 'No Line':\n",
    "        awayTm_impliedOdds.append('No Line')\n",
    "    elif i < 0:\n",
    "        awayTm_impliedOdds.append(round(abs(i) / (abs(i) + 100.00), 3))\n",
    "    elif i > 0:\n",
    "        awayTm_impliedOdds.append(round(100.00 / (100.00 + i), 3))"
   ]
  },
  {
   "cell_type": "code",
   "execution_count": null,
   "metadata": {
    "collapsed": false
   },
   "outputs": [],
   "source": [
    "moneyLines_df['homeTm_impliedOdds'] = homeTm_impliedOdds\n",
    "moneyLines_df['awayTm_impliedOdds'] = awayTm_impliedOdds"
   ]
  },
  {
   "cell_type": "code",
   "execution_count": null,
   "metadata": {
    "collapsed": false
   },
   "outputs": [],
   "source": [
    "moneyLines_df = moneyLines_df[['home_team','homeTm_moneyLine','homeTm_impliedOdds',\n",
    "               'away_team','awayTm_moneyLine','awayTm_impliedOdds']]"
   ]
  },
  {
   "cell_type": "code",
   "execution_count": null,
   "metadata": {
    "collapsed": false
   },
   "outputs": [],
   "source": [
    "moneyLines_df['home_team'] = moneyLines_df['home_team'].str.lower()\n",
    "moneyLines_df['away_team'] = moneyLines_df['away_team'].str.lower()"
   ]
  },
  {
   "cell_type": "code",
   "execution_count": null,
   "metadata": {
    "collapsed": false
   },
   "outputs": [],
   "source": [
    "moneyLines_df = moneyLines_df.replace('chicago white sox', 'white sox')\n",
    "moneyLines_df = moneyLines_df.replace('oakland athletics', 'athletics')\n",
    "moneyLines_df = moneyLines_df.replace('los angeles angels', 'angels')\n",
    "moneyLines_df = moneyLines_df.replace('los angeles dodgers', 'dodgers')\n",
    "moneyLines_df = moneyLines_df.replace('seattle mariners', 'mariners')\n",
    "moneyLines_df = moneyLines_df.replace('tampa bay rays', 'rays')\n",
    "moneyLines_df = moneyLines_df.replace('atlanta braves', 'braves')\n",
    "moneyLines_df = moneyLines_df.replace('boston red sox', 'red sox')\n",
    "moneyLines_df = moneyLines_df.replace('baltimore orioles', 'orioles')\n",
    "moneyLines_df = moneyLines_df.replace('houston astros', 'astros')\n",
    "moneyLines_df = moneyLines_df.replace('pittsburgh pirates', 'pirates')\n",
    "moneyLines_df = moneyLines_df.replace('texas rangers', 'rangers')\n",
    "moneyLines_df = moneyLines_df.replace('cleveland indians', 'indians')\n",
    "moneyLines_df = moneyLines_df.replace('san francisco giants', 'giants')\n",
    "moneyLines_df = moneyLines_df.replace('san diego padres', 'padres')\n",
    "moneyLines_df = moneyLines_df.replace('colorado rockies', 'rockies')\n",
    "moneyLines_df = moneyLines_df.replace('chicago cubs', 'cubs')\n",
    "moneyLines_df = moneyLines_df.replace('philadelphia phillies', 'phillies')\n",
    "moneyLines_df = moneyLines_df.replace('saint louis cardinals', 'cardinals')\n",
    "moneyLines_df = moneyLines_df.replace('minnesota twins', 'twins')\n",
    "moneyLines_df = moneyLines_df.replace('arizona diamondbacks', 'diamondbacks')\n",
    "moneyLines_df = moneyLines_df.replace('milwaukee brewers', 'brewers')\n",
    "moneyLines_df = moneyLines_df.replace('cincinnati reds', 'reds')\n",
    "moneyLines_df = moneyLines_df.replace('kansas city royals', 'royals')\n",
    "moneyLines_df = moneyLines_df.replace('toronto blue jays', 'blue jays')\n",
    "moneyLines_df = moneyLines_df.replace('new york yankees', 'yankees')\n",
    "moneyLines_df = moneyLines_df.replace('new york mets', 'mets')\n",
    "moneyLines_df = moneyLines_df.replace('detroit tigers', 'tigers')\n",
    "moneyLines_df = moneyLines_df.replace('miami marlins', 'marlins')\n",
    "moneyLines_df = moneyLines_df.replace('washington nationals', 'nationals')"
   ]
  },
  {
   "cell_type": "code",
   "execution_count": null,
   "metadata": {
    "collapsed": false
   },
   "outputs": [],
   "source": [
    "daily_final = moneyLines_df.merge(daily_output, left_on = 'home_team', right_on = 'Tm')\n",
    "daily_final = daily_final.drop(['Tm'], 1)\n",
    "daily_final.rename(columns={'proj_win_%': 'homeTm_proj_win_%','Lg':'homeLg', 'hitter': 'homeHitters'}, inplace=True)"
   ]
  },
  {
   "cell_type": "code",
   "execution_count": null,
   "metadata": {
    "collapsed": false
   },
   "outputs": [],
   "source": [
    "daily_final = daily_final.merge(daily_output, left_on = 'away_team', right_on = 'Tm')\n",
    "daily_final = daily_final.drop(['Tm'], 1)\n",
    "daily_final.rename(columns={'proj_win_%': 'awayTm_proj_win_%','Lg':'awayLg', 'hitter': 'awayHitters'}, inplace=True)"
   ]
  },
  {
   "cell_type": "code",
   "execution_count": null,
   "metadata": {
    "collapsed": false
   },
   "outputs": [],
   "source": [
    "daily_final = daily_final[['home_team','homeLg','homeHitters','homeTm_moneyLine','homeTm_impliedOdds','homeTm_proj_win_%'\n",
    "                          ,'away_team','awayLg','awayHitters','awayTm_moneyLine','awayTm_impliedOdds','awayTm_proj_win_%']]"
   ]
  },
  {
   "cell_type": "code",
   "execution_count": null,
   "metadata": {
    "collapsed": false
   },
   "outputs": [],
   "source": [
    "daily_final['homeTm_day_win_prob'] = daily_final['homeTm_proj_win_%'] * (1 - daily_final['awayTm_proj_win_%'])\n",
    "daily_final['awayTm_day_win_prob'] = daily_final['awayTm_proj_win_%'] * (1 - daily_final['homeTm_proj_win_%'])"
   ]
  },
  {
   "cell_type": "code",
   "execution_count": null,
   "metadata": {
    "collapsed": false
   },
   "outputs": [],
   "source": [
    "daily_final['homeTm_day_win_%'] = ((daily_final['homeTm_day_win_prob'] / (daily_final['homeTm_day_win_prob'] \n",
    "                                                                       + daily_final['awayTm_day_win_prob'])) *1.08)"
   ]
  },
  {
   "cell_type": "code",
   "execution_count": null,
   "metadata": {
    "collapsed": false
   },
   "outputs": [],
   "source": [
    "daily_final['awayTm_day_win_%'] = (1 - daily_final['homeTm_day_win_%'])"
   ]
  },
  {
   "cell_type": "code",
   "execution_count": null,
   "metadata": {
    "collapsed": false,
    "scrolled": true
   },
   "outputs": [],
   "source": [
    "daily_final = daily_final[daily_final.homeTm_moneyLine != 'No Line']"
   ]
  },
  {
   "cell_type": "code",
   "execution_count": null,
   "metadata": {
    "collapsed": false
   },
   "outputs": [],
   "source": [
    "daily_final['homeTm_Edge'] = daily_final['homeTm_day_win_%'] - daily_final['homeTm_impliedOdds']\n",
    "daily_final['awayTm_Edge'] = daily_final['awayTm_day_win_%'] - daily_final['awayTm_impliedOdds']"
   ]
  },
  {
   "cell_type": "code",
   "execution_count": null,
   "metadata": {
    "collapsed": false
   },
   "outputs": [],
   "source": [
    "daily_final = daily_final.drop(['homeTm_day_win_prob'], 1)"
   ]
  },
  {
   "cell_type": "code",
   "execution_count": null,
   "metadata": {
    "collapsed": false
   },
   "outputs": [],
   "source": [
    "daily_final = daily_final[['home_team','homeLg','homeHitters','homeTm_moneyLine','homeTm_impliedOdds','homeTm_day_win_%','homeTm_Edge'\n",
    "                          ,'away_team','awayLg','awayHitters','awayTm_moneyLine','awayTm_impliedOdds','awayTm_day_win_%','awayTm_Edge']]"
   ]
  },
  {
   "cell_type": "code",
   "execution_count": null,
   "metadata": {
    "collapsed": true
   },
   "outputs": [],
   "source": [
    "def bet_amount(edge):\n",
    "    total = 1000\n",
    "    if edge > .15:\n",
    "        return total * .03\n",
    "    elif edge > .13 and edge <= .15:\n",
    "        return total * .025\n",
    "    elif edge > .11 and edge <= .13:\n",
    "        return total * .02\n",
    "    elif edge > .09 and edge <= .11:\n",
    "        return total * .015\n",
    "    elif edge > .06 and edge <= .09:\n",
    "        return total * .01\n",
    "    elif edge > .03 and edge <= .06:\n",
    "        return total * .005\n",
    "    elif edge > 0 and edge <= .03:\n",
    "        return total * .002\n",
    "    else:\n",
    "        return 'No Bet'"
   ]
  },
  {
   "cell_type": "code",
   "execution_count": null,
   "metadata": {
    "collapsed": false
   },
   "outputs": [],
   "source": [
    "daily_final['homeTm_bet'] = daily_final.loc[:,'homeTm_Edge'].apply(bet_amount)\n",
    "daily_final['awayTm_bet'] = daily_final.loc[:,'awayTm_Edge'].apply(bet_amount)"
   ]
  },
  {
   "cell_type": "code",
   "execution_count": null,
   "metadata": {
    "collapsed": false,
    "scrolled": true
   },
   "outputs": [],
   "source": [
    "daily_final[['home_team', 'homeHitters','homeTm_Edge', 'homeTm_bet',\n",
    "            'away_team','awayHitters', 'awayTm_Edge', 'awayTm_bet']]"
   ]
  },
  {
   "cell_type": "code",
   "execution_count": null,
   "metadata": {
    "collapsed": false,
    "scrolled": true
   },
   "outputs": [],
   "source": [
    "daily_hitters_war[daily_hitters_war.loc[:,'team'] == 'mariners']"
   ]
  },
  {
   "cell_type": "code",
   "execution_count": null,
   "metadata": {
    "collapsed": false
   },
   "outputs": [],
   "source": [
    "h_depthcharts[h_depthcharts.loc[:,'team'] == 'Mariners']"
   ]
  },
  {
   "cell_type": "code",
   "execution_count": null,
   "metadata": {
    "collapsed": true
   },
   "outputs": [],
   "source": []
  }
 ],
 "metadata": {
  "kernelspec": {
   "display_name": "Python 2",
   "language": "python",
   "name": "python2"
  },
  "language_info": {
   "codemirror_mode": {
    "name": "ipython",
    "version": 2
   },
   "file_extension": ".py",
   "mimetype": "text/x-python",
   "name": "python",
   "nbconvert_exporter": "python",
   "pygments_lexer": "ipython2",
   "version": "2.7.11"
  }
 },
 "nbformat": 4,
 "nbformat_minor": 0
}
